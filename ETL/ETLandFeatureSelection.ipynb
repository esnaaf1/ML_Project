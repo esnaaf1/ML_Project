{
 "cells": [
  {
   "cell_type": "markdown",
   "metadata": {
    "slideshow": {
     "slide_type": "slide"
    }
   },
   "source": [
    "# Import Modules\n",
    "Import libraries required for ETL and Feature Selection"
   ]
  },
  {
   "cell_type": "code",
   "execution_count": 1,
   "metadata": {},
   "outputs": [],
   "source": [
    "# Set the seed value for the notebook so the results are reproducible\n",
    "from numpy.random import seed\n",
    "seed(42)\n",
    "\n",
    "import numpy as np\n",
    "import pandas as pd\n",
    "\n",
    "import warnings\n",
    "warnings.simplefilter('ignore', FutureWarning)\n",
    "\n",
    "%matplotlib inline\n",
    "import matplotlib.pyplot as plt\n",
    "\n",
    "from sklearn.model_selection import train_test_split\n",
    "from tensorflow.keras.utils import to_categorical\n",
    "from sklearn.preprocessing import LabelEncoder, StandardScaler, MinMaxScaler, RobustScaler, minmax_scale, MaxAbsScaler, Normalizer, QuantileTransformer, PowerTransformer"
   ]
  },
  {
   "cell_type": "markdown",
   "metadata": {
    "slideshow": {
     "slide_type": "slide"
    }
   },
   "source": [
    "# Method Definitions"
   ]
  },
  {
   "cell_type": "markdown",
   "metadata": {
    "slideshow": {
     "slide_type": "subslide"
    }
   },
   "source": [
    "## Plot Histogram Method"
   ]
  },
  {
   "cell_type": "code",
   "execution_count": 2,
   "metadata": {},
   "outputs": [],
   "source": [
    "# Code referenced from RealPython example:  https://realpython.com/python-histograms/\n",
    "def plotHistogram(xValues, lbl):\n",
    "    n, bins, patches = plt.hist(x=xValues, bins='auto', color='#0504aa', alpha=0.7, rwidth=0.85)\n",
    "    plt.grid(axis='y', alpha=0.75)\n",
    "    plt.xlabel(lbl)\n",
    "    plt.ylabel('Frequency')\n",
    "    plt.title(lbl + ' Histogram')\n",
    "    maxfreq = n.max()\n",
    "\n",
    "    # Set a clean upper y-axis limit.\n",
    "    plt.ylim(ymax=np.ceil(maxfreq / 10) * 10 if maxfreq % 10 else maxfreq + 10)"
   ]
  },
  {
   "cell_type": "code",
   "execution_count": 3,
   "metadata": {},
   "outputs": [],
   "source": [
    "# Code to prep X and y\n",
    "def prepData(data, scaler):\n",
    "    \n",
    "    # drop the dependent column from the independent columns\n",
    "    X = data.drop(dependent, axis=1)\n",
    "    \n",
    "    # set the dependent column to y\n",
    "    y = data[dependent]\n",
    "    \n",
    "    # Make a copy of the independent field matrix\n",
    "    copyData = X.copy()\n",
    "\n",
    "    # call pandas get dummies to convert to 1's and 0's in separate columns\n",
    "    X = pd.get_dummies(copyData)\n",
    "    \n",
    "    # Split the data into test and train groups\n",
    "    X_train, X_test, y_train, y_test = train_test_split(X, y, random_state=42, stratify=y)\n",
    "    \n",
    "    # Save data out for use in other Jupyter Notebooks\n",
    "    X_train_csv = X_train.to_csv ('X_train.csv', index = None, header=True)\n",
    "    X_test_csv = X_test.to_csv ('X_test.csv', index = None, header=True)\n",
    "    y_train_csv = y_train.to_csv ('y_train.csv', index = None, header=True)\n",
    "    y_test_csv = y_test.to_csv ('y_test.csv', index = None, header=True)\n",
    "    \n",
    "\n",
    "    # Apply a scalar, first train then scale test and train data\n",
    "    # TO DO:  Insert function to select scalar\n",
    "    X_scaler = scaler.fit(X_train)\n",
    "    X_train_scaled = X_scaler.transform(X_train)\n",
    "    X_test_scaled = X_scaler.transform(X_test)\n",
    "\n",
    "    # Label encode the dependent variable, then Hot encode it\n",
    "    label_encoder = LabelEncoder()\n",
    "    label_encoder.fit(y_train)\n",
    "    y_train_categorical = to_categorical(label_encoder.transform(y_train))\n",
    "    y_test_categorical = to_categorical(label_encoder.transform(y_test))\n",
    "\n",
    "    return X, y, X_train_scaled, X_test_scaled, y_train_categorical, y_test_categorical"
   ]
  },
  {
   "cell_type": "markdown",
   "metadata": {
    "slideshow": {
     "slide_type": "slide"
    }
   },
   "source": [
    "# Arythmia - Cleveland Data Set\n",
    "Create standard csv with header"
   ]
  },
  {
   "cell_type": "code",
   "execution_count": 4,
   "metadata": {},
   "outputs": [],
   "source": [
    "######## Dependent variable (column) in our dataset ###########\n",
    "# Arythmia data set:  We will use the binary sick/healthy column buff as our output and remove the 'healthy' column\n",
    "dependent = 'buff'\n",
    "remove = 'healthy'\n",
    "\n",
    "# Set the original file and new file names\n",
    "originalFile = 'cleve.csv'\n",
    "csvFile = 'cleveland.csv'\n",
    "clean_csv = 'cleveland_clean.csv'\n",
    "\n",
    "scalers = {\"Robust\": RobustScaler(),\n",
    "           \"Standard\": StandardScaler(), \n",
    "           \"MinMax\": MinMaxScaler(),\n",
    "           \"MaxAbs\": MaxAbsScaler(),\n",
    "           \"Normalizer\": Normalizer(),\n",
    "           \"Quantile\": QuantileTransformer(),\n",
    "           \"Power\": PowerTransformer()}\n"
   ]
  },
  {
   "cell_type": "code",
   "execution_count": 5,
   "metadata": {},
   "outputs": [],
   "source": [
    "# Open the Cleveland original file, add a header and convert to csv\n",
    "with open(originalFile) as fin, open(csvFile,'w') as fout:\n",
    "    fout.write(\"age,sex,chestPain,trestBps,cholesterol,bloodSugar,ecg,maxHeartRate,exerciseInducedAngina,oldPeak,slope,vesselsColored,thal,buff,healthy\\n\")\n",
    "    for line in fin:\n",
    "        fout.write( \",\".join(line.split()) + \"\\n\" )"
   ]
  },
  {
   "cell_type": "markdown",
   "metadata": {
    "slideshow": {
     "slide_type": "subslide"
    }
   },
   "source": [
    "### Describe the data and look for unique values, remove bad data and any columns not needed"
   ]
  },
  {
   "cell_type": "code",
   "execution_count": 6,
   "metadata": {},
   "outputs": [
    {
     "data": {
      "text/html": [
       "<div>\n",
       "<style scoped>\n",
       "    .dataframe tbody tr th:only-of-type {\n",
       "        vertical-align: middle;\n",
       "    }\n",
       "\n",
       "    .dataframe tbody tr th {\n",
       "        vertical-align: top;\n",
       "    }\n",
       "\n",
       "    .dataframe thead th {\n",
       "        text-align: right;\n",
       "    }\n",
       "</style>\n",
       "<table border=\"1\" class=\"dataframe\">\n",
       "  <thead>\n",
       "    <tr style=\"text-align: right;\">\n",
       "      <th></th>\n",
       "      <th>age</th>\n",
       "      <th>trestBps</th>\n",
       "      <th>cholesterol</th>\n",
       "      <th>maxHeartRate</th>\n",
       "      <th>oldPeak</th>\n",
       "    </tr>\n",
       "  </thead>\n",
       "  <tbody>\n",
       "    <tr>\n",
       "      <td>count</td>\n",
       "      <td>303.000000</td>\n",
       "      <td>303.000000</td>\n",
       "      <td>303.000000</td>\n",
       "      <td>303.000000</td>\n",
       "      <td>303.000000</td>\n",
       "    </tr>\n",
       "    <tr>\n",
       "      <td>mean</td>\n",
       "      <td>54.366337</td>\n",
       "      <td>131.623762</td>\n",
       "      <td>246.264026</td>\n",
       "      <td>149.646865</td>\n",
       "      <td>1.039604</td>\n",
       "    </tr>\n",
       "    <tr>\n",
       "      <td>std</td>\n",
       "      <td>9.082101</td>\n",
       "      <td>17.538143</td>\n",
       "      <td>51.830751</td>\n",
       "      <td>22.905161</td>\n",
       "      <td>1.161075</td>\n",
       "    </tr>\n",
       "    <tr>\n",
       "      <td>min</td>\n",
       "      <td>29.000000</td>\n",
       "      <td>94.000000</td>\n",
       "      <td>126.000000</td>\n",
       "      <td>71.000000</td>\n",
       "      <td>0.000000</td>\n",
       "    </tr>\n",
       "    <tr>\n",
       "      <td>25%</td>\n",
       "      <td>47.500000</td>\n",
       "      <td>120.000000</td>\n",
       "      <td>211.000000</td>\n",
       "      <td>133.500000</td>\n",
       "      <td>0.000000</td>\n",
       "    </tr>\n",
       "    <tr>\n",
       "      <td>50%</td>\n",
       "      <td>55.000000</td>\n",
       "      <td>130.000000</td>\n",
       "      <td>240.000000</td>\n",
       "      <td>153.000000</td>\n",
       "      <td>0.800000</td>\n",
       "    </tr>\n",
       "    <tr>\n",
       "      <td>75%</td>\n",
       "      <td>61.000000</td>\n",
       "      <td>140.000000</td>\n",
       "      <td>274.500000</td>\n",
       "      <td>166.000000</td>\n",
       "      <td>1.600000</td>\n",
       "    </tr>\n",
       "    <tr>\n",
       "      <td>max</td>\n",
       "      <td>77.000000</td>\n",
       "      <td>200.000000</td>\n",
       "      <td>564.000000</td>\n",
       "      <td>202.000000</td>\n",
       "      <td>6.200000</td>\n",
       "    </tr>\n",
       "  </tbody>\n",
       "</table>\n",
       "</div>"
      ],
      "text/plain": [
       "              age    trestBps  cholesterol  maxHeartRate     oldPeak\n",
       "count  303.000000  303.000000   303.000000    303.000000  303.000000\n",
       "mean    54.366337  131.623762   246.264026    149.646865    1.039604\n",
       "std      9.082101   17.538143    51.830751     22.905161    1.161075\n",
       "min     29.000000   94.000000   126.000000     71.000000    0.000000\n",
       "25%     47.500000  120.000000   211.000000    133.500000    0.000000\n",
       "50%     55.000000  130.000000   240.000000    153.000000    0.800000\n",
       "75%     61.000000  140.000000   274.500000    166.000000    1.600000\n",
       "max     77.000000  200.000000   564.000000    202.000000    6.200000"
      ]
     },
     "execution_count": 6,
     "metadata": {},
     "output_type": "execute_result"
    }
   ],
   "source": [
    "# Describe the continuous data and look for any anomalies\n",
    "data = pd.read_csv(csvFile)\n",
    "data.describe()"
   ]
  },
  {
   "cell_type": "code",
   "execution_count": 7,
   "metadata": {},
   "outputs": [
    {
     "data": {
      "text/plain": [
       "Index(['age', 'sex', 'chestPain', 'trestBps', 'cholesterol', 'bloodSugar',\n",
       "       'ecg', 'maxHeartRate', 'exerciseInducedAngina', 'oldPeak', 'slope',\n",
       "       'vesselsColored', 'thal', 'buff', 'healthy'],\n",
       "      dtype='object')"
      ]
     },
     "execution_count": 7,
     "metadata": {},
     "output_type": "execute_result"
    }
   ],
   "source": [
    "# determine column names to be able to look at all unique values for classification columns\n",
    "data.columns"
   ]
  },
  {
   "cell_type": "code",
   "execution_count": 8,
   "metadata": {},
   "outputs": [
    {
     "data": {
      "text/plain": [
       "male    207\n",
       "fem      96\n",
       "Name: sex, dtype: int64"
      ]
     },
     "execution_count": 8,
     "metadata": {},
     "output_type": "execute_result"
    }
   ],
   "source": [
    "data['sex'].value_counts()"
   ]
  },
  {
   "cell_type": "code",
   "execution_count": 9,
   "metadata": {},
   "outputs": [
    {
     "data": {
      "text/plain": [
       "asympt    143\n",
       "notang     87\n",
       "abnang     50\n",
       "angina     23\n",
       "Name: chestPain, dtype: int64"
      ]
     },
     "execution_count": 9,
     "metadata": {},
     "output_type": "execute_result"
    }
   ],
   "source": [
    "data['chestPain'].value_counts()"
   ]
  },
  {
   "cell_type": "code",
   "execution_count": 10,
   "metadata": {},
   "outputs": [
    {
     "data": {
      "text/plain": [
       "fal     258\n",
       "true     45\n",
       "Name: bloodSugar, dtype: int64"
      ]
     },
     "execution_count": 10,
     "metadata": {},
     "output_type": "execute_result"
    }
   ],
   "source": [
    "data['bloodSugar'].value_counts()"
   ]
  },
  {
   "cell_type": "code",
   "execution_count": 11,
   "metadata": {},
   "outputs": [
    {
     "data": {
      "text/plain": [
       "norm    152\n",
       "hyp     147\n",
       "abn       4\n",
       "Name: ecg, dtype: int64"
      ]
     },
     "execution_count": 11,
     "metadata": {},
     "output_type": "execute_result"
    }
   ],
   "source": [
    "data['ecg'].value_counts()"
   ]
  },
  {
   "cell_type": "code",
   "execution_count": 12,
   "metadata": {},
   "outputs": [
    {
     "data": {
      "text/plain": [
       "fal     204\n",
       "true     99\n",
       "Name: exerciseInducedAngina, dtype: int64"
      ]
     },
     "execution_count": 12,
     "metadata": {},
     "output_type": "execute_result"
    }
   ],
   "source": [
    "data['exerciseInducedAngina'].value_counts()"
   ]
  },
  {
   "cell_type": "code",
   "execution_count": 13,
   "metadata": {},
   "outputs": [
    {
     "data": {
      "text/plain": [
       "up      142\n",
       "flat    140\n",
       "down     21\n",
       "Name: slope, dtype: int64"
      ]
     },
     "execution_count": 13,
     "metadata": {},
     "output_type": "execute_result"
    }
   ],
   "source": [
    "data['slope'].value_counts()"
   ]
  },
  {
   "cell_type": "code",
   "execution_count": 14,
   "metadata": {},
   "outputs": [
    {
     "data": {
      "text/plain": [
       "0.0    175\n",
       "1.0     65\n",
       "2.0     38\n",
       "3.0     20\n",
       "?        5\n",
       "Name: vesselsColored, dtype: int64"
      ]
     },
     "execution_count": 14,
     "metadata": {},
     "output_type": "execute_result"
    }
   ],
   "source": [
    "data['vesselsColored'].value_counts()"
   ]
  },
  {
   "cell_type": "code",
   "execution_count": 15,
   "metadata": {},
   "outputs": [],
   "source": [
    "# drop the data with rows where ? appear\n",
    "data.drop(data[data.vesselsColored == '?'].index, inplace=True)"
   ]
  },
  {
   "cell_type": "code",
   "execution_count": 16,
   "metadata": {},
   "outputs": [
    {
     "data": {
      "text/plain": [
       "norm    163\n",
       "rev     115\n",
       "fix      18\n",
       "?         2\n",
       "Name: thal, dtype: int64"
      ]
     },
     "execution_count": 16,
     "metadata": {},
     "output_type": "execute_result"
    }
   ],
   "source": [
    "data['thal'].value_counts()"
   ]
  },
  {
   "cell_type": "code",
   "execution_count": 17,
   "metadata": {},
   "outputs": [],
   "source": [
    "# drop the data with rows where ? appear\n",
    "data.drop(data[data.thal == '?'].index, inplace=True)"
   ]
  },
  {
   "cell_type": "code",
   "execution_count": 18,
   "metadata": {},
   "outputs": [
    {
     "data": {
      "text/plain": [
       "buff    160\n",
       "sick    136\n",
       "Name: buff, dtype: int64"
      ]
     },
     "execution_count": 18,
     "metadata": {},
     "output_type": "execute_result"
    }
   ],
   "source": [
    "data['buff'].value_counts()"
   ]
  },
  {
   "cell_type": "code",
   "execution_count": 19,
   "metadata": {},
   "outputs": [
    {
     "data": {
      "text/plain": [
       "H     160\n",
       "S1     53\n",
       "S2     35\n",
       "S3     35\n",
       "S4     13\n",
       "Name: healthy, dtype: int64"
      ]
     },
     "execution_count": 19,
     "metadata": {},
     "output_type": "execute_result"
    }
   ],
   "source": [
    "data['healthy'].value_counts()"
   ]
  },
  {
   "cell_type": "code",
   "execution_count": 20,
   "metadata": {},
   "outputs": [],
   "source": [
    "# We determined we were discarding this column and using the binary column 'buff' instead to indicate healthy vs sick\n",
    "# so delete this column\n",
    "data = data.drop(remove, axis=1)"
   ]
  },
  {
   "cell_type": "code",
   "execution_count": 21,
   "metadata": {},
   "outputs": [
    {
     "data": {
      "text/html": [
       "<div>\n",
       "<style scoped>\n",
       "    .dataframe tbody tr th:only-of-type {\n",
       "        vertical-align: middle;\n",
       "    }\n",
       "\n",
       "    .dataframe tbody tr th {\n",
       "        vertical-align: top;\n",
       "    }\n",
       "\n",
       "    .dataframe thead th {\n",
       "        text-align: right;\n",
       "    }\n",
       "</style>\n",
       "<table border=\"1\" class=\"dataframe\">\n",
       "  <thead>\n",
       "    <tr style=\"text-align: right;\">\n",
       "      <th></th>\n",
       "      <th>age</th>\n",
       "      <th>sex</th>\n",
       "      <th>chestPain</th>\n",
       "      <th>trestBps</th>\n",
       "      <th>cholesterol</th>\n",
       "      <th>bloodSugar</th>\n",
       "      <th>ecg</th>\n",
       "      <th>maxHeartRate</th>\n",
       "      <th>exerciseInducedAngina</th>\n",
       "      <th>oldPeak</th>\n",
       "      <th>slope</th>\n",
       "      <th>vesselsColored</th>\n",
       "      <th>thal</th>\n",
       "      <th>buff</th>\n",
       "    </tr>\n",
       "  </thead>\n",
       "  <tbody>\n",
       "    <tr>\n",
       "      <td>0</td>\n",
       "      <td>63.0</td>\n",
       "      <td>male</td>\n",
       "      <td>angina</td>\n",
       "      <td>145.0</td>\n",
       "      <td>233.0</td>\n",
       "      <td>true</td>\n",
       "      <td>hyp</td>\n",
       "      <td>150.0</td>\n",
       "      <td>fal</td>\n",
       "      <td>2.3</td>\n",
       "      <td>down</td>\n",
       "      <td>0.0</td>\n",
       "      <td>fix</td>\n",
       "      <td>buff</td>\n",
       "    </tr>\n",
       "    <tr>\n",
       "      <td>1</td>\n",
       "      <td>67.0</td>\n",
       "      <td>male</td>\n",
       "      <td>asympt</td>\n",
       "      <td>160.0</td>\n",
       "      <td>286.0</td>\n",
       "      <td>fal</td>\n",
       "      <td>hyp</td>\n",
       "      <td>108.0</td>\n",
       "      <td>true</td>\n",
       "      <td>1.5</td>\n",
       "      <td>flat</td>\n",
       "      <td>3.0</td>\n",
       "      <td>norm</td>\n",
       "      <td>sick</td>\n",
       "    </tr>\n",
       "    <tr>\n",
       "      <td>2</td>\n",
       "      <td>67.0</td>\n",
       "      <td>male</td>\n",
       "      <td>asympt</td>\n",
       "      <td>120.0</td>\n",
       "      <td>229.0</td>\n",
       "      <td>fal</td>\n",
       "      <td>hyp</td>\n",
       "      <td>129.0</td>\n",
       "      <td>true</td>\n",
       "      <td>2.6</td>\n",
       "      <td>flat</td>\n",
       "      <td>2.0</td>\n",
       "      <td>rev</td>\n",
       "      <td>sick</td>\n",
       "    </tr>\n",
       "    <tr>\n",
       "      <td>3</td>\n",
       "      <td>37.0</td>\n",
       "      <td>male</td>\n",
       "      <td>notang</td>\n",
       "      <td>130.0</td>\n",
       "      <td>250.0</td>\n",
       "      <td>fal</td>\n",
       "      <td>norm</td>\n",
       "      <td>187.0</td>\n",
       "      <td>fal</td>\n",
       "      <td>3.5</td>\n",
       "      <td>down</td>\n",
       "      <td>0.0</td>\n",
       "      <td>norm</td>\n",
       "      <td>buff</td>\n",
       "    </tr>\n",
       "    <tr>\n",
       "      <td>4</td>\n",
       "      <td>41.0</td>\n",
       "      <td>fem</td>\n",
       "      <td>abnang</td>\n",
       "      <td>130.0</td>\n",
       "      <td>204.0</td>\n",
       "      <td>fal</td>\n",
       "      <td>hyp</td>\n",
       "      <td>172.0</td>\n",
       "      <td>fal</td>\n",
       "      <td>1.4</td>\n",
       "      <td>up</td>\n",
       "      <td>0.0</td>\n",
       "      <td>norm</td>\n",
       "      <td>buff</td>\n",
       "    </tr>\n",
       "    <tr>\n",
       "      <td>...</td>\n",
       "      <td>...</td>\n",
       "      <td>...</td>\n",
       "      <td>...</td>\n",
       "      <td>...</td>\n",
       "      <td>...</td>\n",
       "      <td>...</td>\n",
       "      <td>...</td>\n",
       "      <td>...</td>\n",
       "      <td>...</td>\n",
       "      <td>...</td>\n",
       "      <td>...</td>\n",
       "      <td>...</td>\n",
       "      <td>...</td>\n",
       "      <td>...</td>\n",
       "    </tr>\n",
       "    <tr>\n",
       "      <td>298</td>\n",
       "      <td>48.0</td>\n",
       "      <td>male</td>\n",
       "      <td>notang</td>\n",
       "      <td>124.0</td>\n",
       "      <td>255.0</td>\n",
       "      <td>true</td>\n",
       "      <td>norm</td>\n",
       "      <td>175.0</td>\n",
       "      <td>fal</td>\n",
       "      <td>0.0</td>\n",
       "      <td>up</td>\n",
       "      <td>2.0</td>\n",
       "      <td>norm</td>\n",
       "      <td>buff</td>\n",
       "    </tr>\n",
       "    <tr>\n",
       "      <td>299</td>\n",
       "      <td>57.0</td>\n",
       "      <td>male</td>\n",
       "      <td>asympt</td>\n",
       "      <td>132.0</td>\n",
       "      <td>207.0</td>\n",
       "      <td>fal</td>\n",
       "      <td>norm</td>\n",
       "      <td>168.0</td>\n",
       "      <td>true</td>\n",
       "      <td>0.0</td>\n",
       "      <td>up</td>\n",
       "      <td>0.0</td>\n",
       "      <td>rev</td>\n",
       "      <td>buff</td>\n",
       "    </tr>\n",
       "    <tr>\n",
       "      <td>300</td>\n",
       "      <td>49.0</td>\n",
       "      <td>male</td>\n",
       "      <td>notang</td>\n",
       "      <td>118.0</td>\n",
       "      <td>149.0</td>\n",
       "      <td>fal</td>\n",
       "      <td>hyp</td>\n",
       "      <td>126.0</td>\n",
       "      <td>fal</td>\n",
       "      <td>0.8</td>\n",
       "      <td>up</td>\n",
       "      <td>3.0</td>\n",
       "      <td>norm</td>\n",
       "      <td>sick</td>\n",
       "    </tr>\n",
       "    <tr>\n",
       "      <td>301</td>\n",
       "      <td>74.0</td>\n",
       "      <td>fem</td>\n",
       "      <td>abnang</td>\n",
       "      <td>120.0</td>\n",
       "      <td>269.0</td>\n",
       "      <td>fal</td>\n",
       "      <td>hyp</td>\n",
       "      <td>121.0</td>\n",
       "      <td>true</td>\n",
       "      <td>0.2</td>\n",
       "      <td>up</td>\n",
       "      <td>1.0</td>\n",
       "      <td>norm</td>\n",
       "      <td>buff</td>\n",
       "    </tr>\n",
       "    <tr>\n",
       "      <td>302</td>\n",
       "      <td>54.0</td>\n",
       "      <td>fem</td>\n",
       "      <td>notang</td>\n",
       "      <td>160.0</td>\n",
       "      <td>201.0</td>\n",
       "      <td>fal</td>\n",
       "      <td>norm</td>\n",
       "      <td>163.0</td>\n",
       "      <td>fal</td>\n",
       "      <td>0.0</td>\n",
       "      <td>up</td>\n",
       "      <td>1.0</td>\n",
       "      <td>norm</td>\n",
       "      <td>buff</td>\n",
       "    </tr>\n",
       "  </tbody>\n",
       "</table>\n",
       "<p>296 rows × 14 columns</p>\n",
       "</div>"
      ],
      "text/plain": [
       "      age   sex chestPain  trestBps  cholesterol bloodSugar   ecg  \\\n",
       "0    63.0  male    angina     145.0        233.0       true   hyp   \n",
       "1    67.0  male    asympt     160.0        286.0        fal   hyp   \n",
       "2    67.0  male    asympt     120.0        229.0        fal   hyp   \n",
       "3    37.0  male    notang     130.0        250.0        fal  norm   \n",
       "4    41.0   fem    abnang     130.0        204.0        fal   hyp   \n",
       "..    ...   ...       ...       ...          ...        ...   ...   \n",
       "298  48.0  male    notang     124.0        255.0       true  norm   \n",
       "299  57.0  male    asympt     132.0        207.0        fal  norm   \n",
       "300  49.0  male    notang     118.0        149.0        fal   hyp   \n",
       "301  74.0   fem    abnang     120.0        269.0        fal   hyp   \n",
       "302  54.0   fem    notang     160.0        201.0        fal  norm   \n",
       "\n",
       "     maxHeartRate exerciseInducedAngina  oldPeak slope vesselsColored  thal  \\\n",
       "0           150.0                   fal      2.3  down            0.0   fix   \n",
       "1           108.0                  true      1.5  flat            3.0  norm   \n",
       "2           129.0                  true      2.6  flat            2.0   rev   \n",
       "3           187.0                   fal      3.5  down            0.0  norm   \n",
       "4           172.0                   fal      1.4    up            0.0  norm   \n",
       "..            ...                   ...      ...   ...            ...   ...   \n",
       "298         175.0                   fal      0.0    up            2.0  norm   \n",
       "299         168.0                  true      0.0    up            0.0   rev   \n",
       "300         126.0                   fal      0.8    up            3.0  norm   \n",
       "301         121.0                  true      0.2    up            1.0  norm   \n",
       "302         163.0                   fal      0.0    up            1.0  norm   \n",
       "\n",
       "     buff  \n",
       "0    buff  \n",
       "1    sick  \n",
       "2    sick  \n",
       "3    buff  \n",
       "4    buff  \n",
       "..    ...  \n",
       "298  buff  \n",
       "299  buff  \n",
       "300  sick  \n",
       "301  buff  \n",
       "302  buff  \n",
       "\n",
       "[296 rows x 14 columns]"
      ]
     },
     "execution_count": 21,
     "metadata": {},
     "output_type": "execute_result"
    }
   ],
   "source": [
    "#display the data without ? rows\n",
    "data"
   ]
  },
  {
   "cell_type": "markdown",
   "metadata": {
    "slideshow": {
     "slide_type": "subslide"
    }
   },
   "source": [
    "## Save our cleaned data set"
   ]
  },
  {
   "cell_type": "code",
   "execution_count": 22,
   "metadata": {},
   "outputs": [],
   "source": [
    "# overwrite the csv so we have a clean copy\n",
    "export_csv = data.to_csv (clean_csv, index = None, header=True)"
   ]
  },
  {
   "cell_type": "markdown",
   "metadata": {
    "slideshow": {
     "slide_type": "subslide"
    }
   },
   "source": [
    "## Now plot each continuous column in a histogram to examine the distribution\n",
    "These can be referenced when selecting machine learning options"
   ]
  },
  {
   "cell_type": "code",
   "execution_count": 23,
   "metadata": {},
   "outputs": [
    {
     "data": {
      "image/png": "[encoded data removed]",
      "text/plain": [
       "<Figure size 432x288 with 1 Axes>"
      ]
     },
     "metadata": {
      "needs_background": "light"
     },
     "output_type": "display_data"
    }
   ],
   "source": [
    "plotHistogram(data['age'], 'Age')"
   ]
  },
  {
   "cell_type": "code",
   "execution_count": 24,
   "metadata": {},
   "outputs": [
    {
     "data": {
      "image/png": "[encoded data removed]",
      "text/plain": [
       "<Figure size 432x288 with 1 Axes>"
      ]
     },
     "metadata": {
      "needs_background": "light"
     },
     "output_type": "display_data"
    }
   ],
   "source": [
    "plotHistogram(data['trestBps'], 'Trest Bps')"
   ]
  },
  {
   "cell_type": "code",
   "execution_count": 25,
   "metadata": {},
   "outputs": [
    {
     "data": {
      "image/png": "[encoded data removed]",
      "text/plain": [
       "<Figure size 432x288 with 1 Axes>"
      ]
     },
     "metadata": {
      "needs_background": "light"
     },
     "output_type": "display_data"
    }
   ],
   "source": [
    "plotHistogram(data['cholesterol'], 'Cholesterol')"
   ]
  },
  {
   "cell_type": "code",
   "execution_count": 26,
   "metadata": {},
   "outputs": [
    {
     "data": {
      "image/png": "[encoded data removed]",
      "text/plain": [
       "<Figure size 432x288 with 1 Axes>"
      ]
     },
     "metadata": {
      "needs_background": "light"
     },
     "output_type": "display_data"
    }
   ],
   "source": [
    "plotHistogram(data['maxHeartRate'], 'Max Heart Rate')"
   ]
  },
  {
   "cell_type": "code",
   "execution_count": 27,
   "metadata": {},
   "outputs": [
    {
     "data": {
      "image/png": "[encoded data removed]",
      "text/plain": [
       "<Figure size 432x288 with 1 Axes>"
      ]
     },
     "metadata": {
      "needs_background": "light"
     },
     "output_type": "display_data"
    }
   ],
   "source": [
    "plotHistogram(data['oldPeak'], 'Old Peak')"
   ]
  },
  {
   "cell_type": "markdown",
   "metadata": {
    "slideshow": {
     "slide_type": "slide"
    }
   },
   "source": [
    "# Let's Try Some Feature Selection Techniques\n",
    "This is an attempt to limit the number of features used in the models to simplify and remove noise\n",
    "##### NOTE:  These three methods and code were obtained from the following website:\n",
    "https://towardsdatascience.com/feature-selection-techniques-in-machine-learning-with-python-f24e7da3f36e"
   ]
  },
  {
   "cell_type": "markdown",
   "metadata": {
    "slideshow": {
     "slide_type": "subslide"
    }
   },
   "source": [
    "## First we need to create our X and y"
   ]
  },
  {
   "cell_type": "code",
   "execution_count": 28,
   "metadata": {},
   "outputs": [
    {
     "data": {
      "text/html": [
       "<div>\n",
       "<style scoped>\n",
       "    .dataframe tbody tr th:only-of-type {\n",
       "        vertical-align: middle;\n",
       "    }\n",
       "\n",
       "    .dataframe tbody tr th {\n",
       "        vertical-align: top;\n",
       "    }\n",
       "\n",
       "    .dataframe thead th {\n",
       "        text-align: right;\n",
       "    }\n",
       "</style>\n",
       "<table border=\"1\" class=\"dataframe\">\n",
       "  <thead>\n",
       "    <tr style=\"text-align: right;\">\n",
       "      <th></th>\n",
       "      <th>age</th>\n",
       "      <th>trestBps</th>\n",
       "      <th>cholesterol</th>\n",
       "      <th>maxHeartRate</th>\n",
       "      <th>oldPeak</th>\n",
       "      <th>sex_fem</th>\n",
       "      <th>sex_male</th>\n",
       "      <th>chestPain_abnang</th>\n",
       "      <th>chestPain_angina</th>\n",
       "      <th>chestPain_asympt</th>\n",
       "      <th>...</th>\n",
       "      <th>slope_down</th>\n",
       "      <th>slope_flat</th>\n",
       "      <th>slope_up</th>\n",
       "      <th>vesselsColored_0.0</th>\n",
       "      <th>vesselsColored_1.0</th>\n",
       "      <th>vesselsColored_2.0</th>\n",
       "      <th>vesselsColored_3.0</th>\n",
       "      <th>thal_fix</th>\n",
       "      <th>thal_norm</th>\n",
       "      <th>thal_rev</th>\n",
       "    </tr>\n",
       "  </thead>\n",
       "  <tbody>\n",
       "    <tr>\n",
       "      <td>0</td>\n",
       "      <td>63.0</td>\n",
       "      <td>145.0</td>\n",
       "      <td>233.0</td>\n",
       "      <td>150.0</td>\n",
       "      <td>2.3</td>\n",
       "      <td>0</td>\n",
       "      <td>1</td>\n",
       "      <td>0</td>\n",
       "      <td>1</td>\n",
       "      <td>0</td>\n",
       "      <td>...</td>\n",
       "      <td>1</td>\n",
       "      <td>0</td>\n",
       "      <td>0</td>\n",
       "      <td>1</td>\n",
       "      <td>0</td>\n",
       "      <td>0</td>\n",
       "      <td>0</td>\n",
       "      <td>1</td>\n",
       "      <td>0</td>\n",
       "      <td>0</td>\n",
       "    </tr>\n",
       "    <tr>\n",
       "      <td>1</td>\n",
       "      <td>67.0</td>\n",
       "      <td>160.0</td>\n",
       "      <td>286.0</td>\n",
       "      <td>108.0</td>\n",
       "      <td>1.5</td>\n",
       "      <td>0</td>\n",
       "      <td>1</td>\n",
       "      <td>0</td>\n",
       "      <td>0</td>\n",
       "      <td>1</td>\n",
       "      <td>...</td>\n",
       "      <td>0</td>\n",
       "      <td>1</td>\n",
       "      <td>0</td>\n",
       "      <td>0</td>\n",
       "      <td>0</td>\n",
       "      <td>0</td>\n",
       "      <td>1</td>\n",
       "      <td>0</td>\n",
       "      <td>1</td>\n",
       "      <td>0</td>\n",
       "    </tr>\n",
       "    <tr>\n",
       "      <td>2</td>\n",
       "      <td>67.0</td>\n",
       "      <td>120.0</td>\n",
       "      <td>229.0</td>\n",
       "      <td>129.0</td>\n",
       "      <td>2.6</td>\n",
       "      <td>0</td>\n",
       "      <td>1</td>\n",
       "      <td>0</td>\n",
       "      <td>0</td>\n",
       "      <td>1</td>\n",
       "      <td>...</td>\n",
       "      <td>0</td>\n",
       "      <td>1</td>\n",
       "      <td>0</td>\n",
       "      <td>0</td>\n",
       "      <td>0</td>\n",
       "      <td>1</td>\n",
       "      <td>0</td>\n",
       "      <td>0</td>\n",
       "      <td>0</td>\n",
       "      <td>1</td>\n",
       "    </tr>\n",
       "    <tr>\n",
       "      <td>3</td>\n",
       "      <td>37.0</td>\n",
       "      <td>130.0</td>\n",
       "      <td>250.0</td>\n",
       "      <td>187.0</td>\n",
       "      <td>3.5</td>\n",
       "      <td>0</td>\n",
       "      <td>1</td>\n",
       "      <td>0</td>\n",
       "      <td>0</td>\n",
       "      <td>0</td>\n",
       "      <td>...</td>\n",
       "      <td>1</td>\n",
       "      <td>0</td>\n",
       "      <td>0</td>\n",
       "      <td>1</td>\n",
       "      <td>0</td>\n",
       "      <td>0</td>\n",
       "      <td>0</td>\n",
       "      <td>0</td>\n",
       "      <td>1</td>\n",
       "      <td>0</td>\n",
       "    </tr>\n",
       "    <tr>\n",
       "      <td>4</td>\n",
       "      <td>41.0</td>\n",
       "      <td>130.0</td>\n",
       "      <td>204.0</td>\n",
       "      <td>172.0</td>\n",
       "      <td>1.4</td>\n",
       "      <td>1</td>\n",
       "      <td>0</td>\n",
       "      <td>1</td>\n",
       "      <td>0</td>\n",
       "      <td>0</td>\n",
       "      <td>...</td>\n",
       "      <td>0</td>\n",
       "      <td>0</td>\n",
       "      <td>1</td>\n",
       "      <td>1</td>\n",
       "      <td>0</td>\n",
       "      <td>0</td>\n",
       "      <td>0</td>\n",
       "      <td>0</td>\n",
       "      <td>1</td>\n",
       "      <td>0</td>\n",
       "    </tr>\n",
       "    <tr>\n",
       "      <td>...</td>\n",
       "      <td>...</td>\n",
       "      <td>...</td>\n",
       "      <td>...</td>\n",
       "      <td>...</td>\n",
       "      <td>...</td>\n",
       "      <td>...</td>\n",
       "      <td>...</td>\n",
       "      <td>...</td>\n",
       "      <td>...</td>\n",
       "      <td>...</td>\n",
       "      <td>...</td>\n",
       "      <td>...</td>\n",
       "      <td>...</td>\n",
       "      <td>...</td>\n",
       "      <td>...</td>\n",
       "      <td>...</td>\n",
       "      <td>...</td>\n",
       "      <td>...</td>\n",
       "      <td>...</td>\n",
       "      <td>...</td>\n",
       "      <td>...</td>\n",
       "    </tr>\n",
       "    <tr>\n",
       "      <td>298</td>\n",
       "      <td>48.0</td>\n",
       "      <td>124.0</td>\n",
       "      <td>255.0</td>\n",
       "      <td>175.0</td>\n",
       "      <td>0.0</td>\n",
       "      <td>0</td>\n",
       "      <td>1</td>\n",
       "      <td>0</td>\n",
       "      <td>0</td>\n",
       "      <td>0</td>\n",
       "      <td>...</td>\n",
       "      <td>0</td>\n",
       "      <td>0</td>\n",
       "      <td>1</td>\n",
       "      <td>0</td>\n",
       "      <td>0</td>\n",
       "      <td>1</td>\n",
       "      <td>0</td>\n",
       "      <td>0</td>\n",
       "      <td>1</td>\n",
       "      <td>0</td>\n",
       "    </tr>\n",
       "    <tr>\n",
       "      <td>299</td>\n",
       "      <td>57.0</td>\n",
       "      <td>132.0</td>\n",
       "      <td>207.0</td>\n",
       "      <td>168.0</td>\n",
       "      <td>0.0</td>\n",
       "      <td>0</td>\n",
       "      <td>1</td>\n",
       "      <td>0</td>\n",
       "      <td>0</td>\n",
       "      <td>1</td>\n",
       "      <td>...</td>\n",
       "      <td>0</td>\n",
       "      <td>0</td>\n",
       "      <td>1</td>\n",
       "      <td>1</td>\n",
       "      <td>0</td>\n",
       "      <td>0</td>\n",
       "      <td>0</td>\n",
       "      <td>0</td>\n",
       "      <td>0</td>\n",
       "      <td>1</td>\n",
       "    </tr>\n",
       "    <tr>\n",
       "      <td>300</td>\n",
       "      <td>49.0</td>\n",
       "      <td>118.0</td>\n",
       "      <td>149.0</td>\n",
       "      <td>126.0</td>\n",
       "      <td>0.8</td>\n",
       "      <td>0</td>\n",
       "      <td>1</td>\n",
       "      <td>0</td>\n",
       "      <td>0</td>\n",
       "      <td>0</td>\n",
       "      <td>...</td>\n",
       "      <td>0</td>\n",
       "      <td>0</td>\n",
       "      <td>1</td>\n",
       "      <td>0</td>\n",
       "      <td>0</td>\n",
       "      <td>0</td>\n",
       "      <td>1</td>\n",
       "      <td>0</td>\n",
       "      <td>1</td>\n",
       "      <td>0</td>\n",
       "    </tr>\n",
       "    <tr>\n",
       "      <td>301</td>\n",
       "      <td>74.0</td>\n",
       "      <td>120.0</td>\n",
       "      <td>269.0</td>\n",
       "      <td>121.0</td>\n",
       "      <td>0.2</td>\n",
       "      <td>1</td>\n",
       "      <td>0</td>\n",
       "      <td>1</td>\n",
       "      <td>0</td>\n",
       "      <td>0</td>\n",
       "      <td>...</td>\n",
       "      <td>0</td>\n",
       "      <td>0</td>\n",
       "      <td>1</td>\n",
       "      <td>0</td>\n",
       "      <td>1</td>\n",
       "      <td>0</td>\n",
       "      <td>0</td>\n",
       "      <td>0</td>\n",
       "      <td>1</td>\n",
       "      <td>0</td>\n",
       "    </tr>\n",
       "    <tr>\n",
       "      <td>302</td>\n",
       "      <td>54.0</td>\n",
       "      <td>160.0</td>\n",
       "      <td>201.0</td>\n",
       "      <td>163.0</td>\n",
       "      <td>0.0</td>\n",
       "      <td>1</td>\n",
       "      <td>0</td>\n",
       "      <td>0</td>\n",
       "      <td>0</td>\n",
       "      <td>0</td>\n",
       "      <td>...</td>\n",
       "      <td>0</td>\n",
       "      <td>0</td>\n",
       "      <td>1</td>\n",
       "      <td>0</td>\n",
       "      <td>1</td>\n",
       "      <td>0</td>\n",
       "      <td>0</td>\n",
       "      <td>0</td>\n",
       "      <td>1</td>\n",
       "      <td>0</td>\n",
       "    </tr>\n",
       "  </tbody>\n",
       "</table>\n",
       "<p>296 rows × 28 columns</p>\n",
       "</div>"
      ],
      "text/plain": [
       "      age  trestBps  cholesterol  maxHeartRate  oldPeak  sex_fem  sex_male  \\\n",
       "0    63.0     145.0        233.0         150.0      2.3        0         1   \n",
       "1    67.0     160.0        286.0         108.0      1.5        0         1   \n",
       "2    67.0     120.0        229.0         129.0      2.6        0         1   \n",
       "3    37.0     130.0        250.0         187.0      3.5        0         1   \n",
       "4    41.0     130.0        204.0         172.0      1.4        1         0   \n",
       "..    ...       ...          ...           ...      ...      ...       ...   \n",
       "298  48.0     124.0        255.0         175.0      0.0        0         1   \n",
       "299  57.0     132.0        207.0         168.0      0.0        0         1   \n",
       "300  49.0     118.0        149.0         126.0      0.8        0         1   \n",
       "301  74.0     120.0        269.0         121.0      0.2        1         0   \n",
       "302  54.0     160.0        201.0         163.0      0.0        1         0   \n",
       "\n",
       "     chestPain_abnang  chestPain_angina  chestPain_asympt  ...  slope_down  \\\n",
       "0                   0                 1                 0  ...           1   \n",
       "1                   0                 0                 1  ...           0   \n",
       "2                   0                 0                 1  ...           0   \n",
       "3                   0                 0                 0  ...           1   \n",
       "4                   1                 0                 0  ...           0   \n",
       "..                ...               ...               ...  ...         ...   \n",
       "298                 0                 0                 0  ...           0   \n",
       "299                 0                 0                 1  ...           0   \n",
       "300                 0                 0                 0  ...           0   \n",
       "301                 1                 0                 0  ...           0   \n",
       "302                 0                 0                 0  ...           0   \n",
       "\n",
       "     slope_flat  slope_up  vesselsColored_0.0  vesselsColored_1.0  \\\n",
       "0             0         0                   1                   0   \n",
       "1             1         0                   0                   0   \n",
       "2             1         0                   0                   0   \n",
       "3             0         0                   1                   0   \n",
       "4             0         1                   1                   0   \n",
       "..          ...       ...                 ...                 ...   \n",
       "298           0         1                   0                   0   \n",
       "299           0         1                   1                   0   \n",
       "300           0         1                   0                   0   \n",
       "301           0         1                   0                   1   \n",
       "302           0         1                   0                   1   \n",
       "\n",
       "     vesselsColored_2.0  vesselsColored_3.0  thal_fix  thal_norm  thal_rev  \n",
       "0                     0                   0         1          0         0  \n",
       "1                     0                   1         0          1         0  \n",
       "2                     1                   0         0          0         1  \n",
       "3                     0                   0         0          1         0  \n",
       "4                     0                   0         0          1         0  \n",
       "..                  ...                 ...       ...        ...       ...  \n",
       "298                   1                   0         0          1         0  \n",
       "299                   0                   0         0          0         1  \n",
       "300                   0                   1         0          1         0  \n",
       "301                   0                   0         0          1         0  \n",
       "302                   0                   0         0          1         0  \n",
       "\n",
       "[296 rows x 28 columns]"
      ]
     },
     "execution_count": 28,
     "metadata": {},
     "output_type": "execute_result"
    }
   ],
   "source": [
    "# X, y, X_train_scaled, X_test_scaled, y_train_categorical, y_test_categorical = prepData(data, scalers['MinMax'])\n",
    "X, y, X_train_scaled, X_test_scaled, y_train_categorical, y_test_categorical = prepData(data, scalers['MinMax'])\n",
    "X"
   ]
  },
  {
   "cell_type": "markdown",
   "metadata": {
    "slideshow": {
     "slide_type": "subslide"
    }
   },
   "source": [
    "## Univariate Selection using ChiSquare"
   ]
  },
  {
   "cell_type": "code",
   "execution_count": 29,
   "metadata": {},
   "outputs": [
    {
     "name": "stdout",
     "output_type": "stream",
     "text": [
      "                         Specs      Score\n",
      "27                    thal_rev  34.200294\n",
      "17  exerciseInducedAngina_true  33.418728\n",
      "9             chestPain_asympt  32.604218\n",
      "26                   thal_norm  28.482451\n",
      "21          vesselsColored_0.0  21.540903\n",
      "20                    slope_up  18.872001\n",
      "19                  slope_flat  15.823077\n",
      "16   exerciseInducedAngina_fal  14.756322\n",
      "7             chestPain_abnang  14.126050\n",
      "10            chestPain_notang  13.687783\n",
      "23          vesselsColored_2.0  12.695136\n",
      "5                      sex_fem  12.124316\n",
      "22          vesselsColored_1.0  11.352036\n",
      "4                      oldPeak  10.745139\n",
      "24          vesselsColored_3.0   7.004118\n",
      "6                     sex_male   5.700838\n",
      "13                     ecg_abn   3.529412\n",
      "8             chestPain_angina   2.826471\n",
      "15                    ecg_norm   2.605742\n",
      "3                 maxHeartRate   1.955725\n",
      "14                     ecg_hyp   1.548633\n",
      "0                          age   0.975826\n",
      "25                    thal_fix   0.741422\n",
      "18                  slope_down   0.684007\n",
      "1                     trestBps   0.355538\n",
      "2                  cholesterol   0.136939\n",
      "12             bloodSugar_true   0.022368\n"
     ]
    }
   ],
   "source": [
    "# REference:  https://towardsdatascience.com/feature-selection-techniques-in-machine-learning-with-python-f24e7da3f36e\n",
    "from sklearn.feature_selection import SelectKBest\n",
    "from sklearn.feature_selection import chi2\n",
    "\n",
    "#apply SelectKBest class to extract best features\n",
    "bestfeatures = SelectKBest(score_func=chi2, k=10)\n",
    "fit = bestfeatures.fit(X_train_scaled,y_train_categorical)\n",
    "dfscores = pd.DataFrame(fit.scores_)\n",
    "dfcolumns = pd.DataFrame(X.columns)\n",
    "\n",
    "#concat two dataframes for better visualization \n",
    "featureScores = pd.concat([dfcolumns,dfscores],axis=1)\n",
    "featureScores.columns = ['Specs','Score']  #naming the dataframe columns\n",
    "print(featureScores.nlargest(27,'Score'))  #print best features reverse order"
   ]
  },
  {
   "cell_type": "markdown",
   "metadata": {
    "slideshow": {
     "slide_type": "subslide"
    }
   },
   "source": [
    "## Feature Importance"
   ]
  },
  {
   "cell_type": "code",
   "execution_count": 30,
   "metadata": {},
   "outputs": [
    {
     "name": "stdout",
     "output_type": "stream",
     "text": [
      "[0.03502496 0.04442578 0.03073113 0.04561243 0.0516222  0.01905353\n",
      " 0.03392827 0.00337018 0.0093416  0.13287963 0.03397756 0.0074519\n",
      " 0.01069452 0.00024183 0.02261995 0.02012887 0.01899636 0.06371845\n",
      " 0.01080309 0.02556698 0.04095077 0.08324723 0.04526443 0.0121062\n",
      " 0.01591545 0.00653634 0.08058911 0.09520124]\n"
     ]
    },
    {
     "data": {
      "image/png": "[encoded data removed]",
      "text/plain": [
       "<Figure size 432x288 with 1 Axes>"
      ]
     },
     "metadata": {
      "needs_background": "light"
     },
     "output_type": "display_data"
    }
   ],
   "source": [
    "from sklearn.ensemble import ExtraTreesClassifier\n",
    "import matplotlib.pyplot as plt\n",
    "model = ExtraTreesClassifier()\n",
    "model.fit(X_train_scaled,y_train_categorical)\n",
    "print(model.feature_importances_) #use inbuilt class feature_importances of tree based classifiers\n",
    "#plot graph of feature importances for better visualization\n",
    "feat_importances = pd.Series(model.feature_importances_, index=X.columns)\n",
    "feat_importances.nlargest(15).plot(kind='barh')\n",
    "plt.show()"
   ]
  },
  {
   "cell_type": "markdown",
   "metadata": {
    "slideshow": {
     "slide_type": "subslide"
    }
   },
   "source": [
    "## Correlation Matrix with Heatmap\n",
    "Notice that only continuous variables are plotted and there are no variables with a high correlation in our dataset"
   ]
  },
  {
   "cell_type": "code",
   "execution_count": 31,
   "metadata": {},
   "outputs": [
    {
     "data": {
      "text/html": [
       "<div>\n",
       "<style scoped>\n",
       "    .dataframe tbody tr th:only-of-type {\n",
       "        vertical-align: middle;\n",
       "    }\n",
       "\n",
       "    .dataframe tbody tr th {\n",
       "        vertical-align: top;\n",
       "    }\n",
       "\n",
       "    .dataframe thead th {\n",
       "        text-align: right;\n",
       "    }\n",
       "</style>\n",
       "<table border=\"1\" class=\"dataframe\">\n",
       "  <thead>\n",
       "    <tr style=\"text-align: right;\">\n",
       "      <th></th>\n",
       "      <th>age</th>\n",
       "      <th>trestBps</th>\n",
       "      <th>cholesterol</th>\n",
       "      <th>maxHeartRate</th>\n",
       "      <th>oldPeak</th>\n",
       "    </tr>\n",
       "  </thead>\n",
       "  <tbody>\n",
       "    <tr>\n",
       "      <td>age</td>\n",
       "      <td>1.000000</td>\n",
       "      <td>0.288701</td>\n",
       "      <td>0.200920</td>\n",
       "      <td>-0.395989</td>\n",
       "      <td>0.199373</td>\n",
       "    </tr>\n",
       "    <tr>\n",
       "      <td>trestBps</td>\n",
       "      <td>0.288701</td>\n",
       "      <td>1.000000</td>\n",
       "      <td>0.126705</td>\n",
       "      <td>-0.051817</td>\n",
       "      <td>0.196793</td>\n",
       "    </tr>\n",
       "    <tr>\n",
       "      <td>cholesterol</td>\n",
       "      <td>0.200920</td>\n",
       "      <td>0.126705</td>\n",
       "      <td>1.000000</td>\n",
       "      <td>-0.001947</td>\n",
       "      <td>0.042144</td>\n",
       "    </tr>\n",
       "    <tr>\n",
       "      <td>maxHeartRate</td>\n",
       "      <td>-0.395989</td>\n",
       "      <td>-0.051817</td>\n",
       "      <td>-0.001947</td>\n",
       "      <td>1.000000</td>\n",
       "      <td>-0.346742</td>\n",
       "    </tr>\n",
       "    <tr>\n",
       "      <td>oldPeak</td>\n",
       "      <td>0.199373</td>\n",
       "      <td>0.196793</td>\n",
       "      <td>0.042144</td>\n",
       "      <td>-0.346742</td>\n",
       "      <td>1.000000</td>\n",
       "    </tr>\n",
       "  </tbody>\n",
       "</table>\n",
       "</div>"
      ],
      "text/plain": [
       "                   age  trestBps  cholesterol  maxHeartRate   oldPeak\n",
       "age           1.000000  0.288701     0.200920     -0.395989  0.199373\n",
       "trestBps      0.288701  1.000000     0.126705     -0.051817  0.196793\n",
       "cholesterol   0.200920  0.126705     1.000000     -0.001947  0.042144\n",
       "maxHeartRate -0.395989 -0.051817    -0.001947      1.000000 -0.346742\n",
       "oldPeak       0.199373  0.196793     0.042144     -0.346742  1.000000"
      ]
     },
     "execution_count": 31,
     "metadata": {},
     "output_type": "execute_result"
    },
    {
     "data": {
      "image/png": "[encoded data removed]",
      "text/plain": [
       "<Figure size 360x360 with 2 Axes>"
      ]
     },
     "metadata": {
      "needs_background": "light"
     },
     "output_type": "display_data"
    }
   ],
   "source": [
    "import seaborn as sns\n",
    "\n",
    "#get correlations of each features in dataset\n",
    "corrmat = data.corr()\n",
    "top_corr_features = corrmat.index\n",
    "plt.figure(figsize=(5,5))\n",
    "\n",
    "#plot heat map\n",
    "g=sns.heatmap(data[top_corr_features].corr(),annot=True,cmap=\"RdYlGn\")\n",
    "corrmat"
   ]
  },
  {
   "cell_type": "code",
   "execution_count": null,
   "metadata": {},
   "outputs": [],
   "source": []
  }
 ],
 "metadata": {
  "celltoolbar": "Slideshow",
  "kernelspec": {
   "display_name": "Python 3",
   "language": "python",
   "name": "python3"
  },
  "language_info": {
   "codemirror_mode": {
    "name": "ipython",
    "version": 3
   },
   "file_extension": ".py",
   "mimetype": "text/x-python",
   "name": "python",
   "nbconvert_exporter": "python",
   "pygments_lexer": "ipython3",
   "version": "3.6.9"
  }
 },
 "nbformat": 4,
 "nbformat_minor": 2
}
