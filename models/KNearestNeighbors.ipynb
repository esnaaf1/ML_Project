{
 "cells": [
  {
   "cell_type": "markdown",
   "metadata": {},
   "source": [
    "# K-Nearest Neighbor model"
   ]
  },
  {
   "cell_type": "code",
   "execution_count": 3,
   "metadata": {},
   "outputs": [],
   "source": [
    "# Set the seed value for the notebook so the results are reproducible\n",
    "from numpy.random import seed\n",
    "seed(42)\n",
    "\n",
    "# Imports\n",
    "import numpy as np\n",
    "import pandas as pd\n",
    "import joblib\n",
    "\n",
    "import warnings\n",
    "warnings.simplefilter('ignore', FutureWarning)\n",
    "warnings.simplefilter('ignore', DeprecationWarning )\n",
    "%matplotlib inline\n",
    "import matplotlib.pyplot as plt\n",
    "\n",
    "#from sklearn.model_selection import train_test_split\n",
    "from tensorflow.keras.utils import to_categorical\n",
    "from sklearn.preprocessing import LabelEncoder, StandardScaler, MinMaxScaler\n",
    "from sklearn.neighbors import KNeighborsClassifier\n",
    "from sklearn.model_selection import KFold\n",
    "from sklearn.model_selection import GridSearchCV\n"
   ]
  },
  {
   "cell_type": "markdown",
   "metadata": {},
   "source": [
    "## 1. Read the data"
   ]
  },
  {
   "cell_type": "code",
   "execution_count": 4,
   "metadata": {},
   "outputs": [],
   "source": [
    "# read the X_train X_test, y_train, y_test data\n",
    "X_train = pd.read_csv('../data/X_train.csv')\n",
    "X_test = pd.read_csv('../data/X_test.csv')\n",
    "y_train = pd.read_csv('../data/y_train.csv')\n",
    "y_test = pd.read_csv('../data/y_test.csv')"
   ]
  },
  {
   "cell_type": "markdown",
   "metadata": {},
   "source": [
    "## 2. Scale the data"
   ]
  },
  {
   "cell_type": "code",
   "execution_count": 5,
   "metadata": {},
   "outputs": [],
   "source": [
    "# Use MinMaxScaler\n",
    "X_scaler = MinMaxScaler().fit(X_train)\n",
    "X_train_scaled = X_scaler.transform(X_train)\n",
    "X_test_scaled = X_scaler.transform(X_test)"
   ]
  },
  {
   "cell_type": "markdown",
   "metadata": {},
   "source": [
    "## 3. Encode the labels"
   ]
  },
  {
   "cell_type": "code",
   "execution_count": 6,
   "metadata": {},
   "outputs": [
    {
     "name": "stderr",
     "output_type": "stream",
     "text": [
      "//anaconda3/envs/PythonWebMongo/lib/python3.6/site-packages/sklearn/preprocessing/label.py:219: DataConversionWarning: A column-vector y was passed when a 1d array was expected. Please change the shape of y to (n_samples, ), for example using ravel().\n",
      "  y = column_or_1d(y, warn=True)\n",
      "//anaconda3/envs/PythonWebMongo/lib/python3.6/site-packages/sklearn/preprocessing/label.py:252: DataConversionWarning: A column-vector y was passed when a 1d array was expected. Please change the shape of y to (n_samples, ), for example using ravel().\n",
      "  y = column_or_1d(y, warn=True)\n",
      "Using TensorFlow backend.\n"
     ]
    }
   ],
   "source": [
    "# Step 1: Label-encode data set\n",
    "label_encoder = LabelEncoder()\n",
    "label_encoder.fit(y_train)\n",
    "y_train_encoded = label_encoder.transform(y_train)\n",
    "label_encoder.fit(y_test)\n",
    "y_test_encoded = label_encoder.transform(y_test)\n",
    "# Step 2: \n",
    "from keras.utils import to_categorical\n",
    "\n",
    "# Step 2: One-hot encoding\n",
    "y_train_one_hot = to_categorical(y_train_encoded)\n",
    "y_test_one_hot = to_categorical(y_test_encoded)"
   ]
  },
  {
   "cell_type": "markdown",
   "metadata": {},
   "source": [
    "## 4. Setup the KNN Model"
   ]
  },
  {
   "cell_type": "code",
   "execution_count": 11,
   "metadata": {},
   "outputs": [
    {
     "name": "stdout",
     "output_type": "stream",
     "text": [
      "k: 1, Train/Test Score: 1.000/0.703\n",
      "k: 3, Train/Test Score: 0.932/0.811\n",
      "k: 5, Train/Test Score: 0.905/0.824\n",
      "k: 7, Train/Test Score: 0.914/0.797\n",
      "k: 9, Train/Test Score: 0.887/0.797\n",
      "k: 11, Train/Test Score: 0.865/0.797\n",
      "k: 13, Train/Test Score: 0.860/0.797\n",
      "k: 15, Train/Test Score: 0.865/0.797\n",
      "k: 17, Train/Test Score: 0.865/0.797\n",
      "k: 19, Train/Test Score: 0.847/0.811\n"
     ]
    },
    {
     "data": {
      "image/png": "[encoded data removed]",
      "text/plain": [
       "<Figure size 432x288 with 1 Axes>"
      ]
     },
     "metadata": {
      "needs_background": "light"
     },
     "output_type": "display_data"
    }
   ],
   "source": [
    "# Loop through different k values to see which has the highest accuracy\n",
    "# Note: We only use odd numbers because we don't want any ties\n",
    "train_scores = []\n",
    "test_scores = []\n",
    "for k in range(1, 21, 2):\n",
    "    knn = KNeighborsClassifier(n_neighbors=k)\n",
    "    knn.fit(X_train_scaled, y_train_one_hot)\n",
    "    train_score = knn.score(X_train_scaled, y_train_one_hot)\n",
    "    test_score = knn.score(X_test_scaled, y_test_one_hot)\n",
    "    train_scores.append(train_score)\n",
    "    test_scores.append(test_score)\n",
    "    print(f\"k: {k}, Train/Test Score: {train_score:.3f}/{test_score:.3f}\")\n",
    "    \n",
    "    \n",
    "plt.plot(range(1, 21, 2), train_scores, marker='o', label='train data')\n",
    "plt.plot(range(1, 21, 2), test_scores, marker='x', label = 'test data')\n",
    "plt.legend(loc = 'upper right')\n",
    "plt.xlabel(\"k neighbors\")\n",
    "plt.ylabel(\"Testing accuracy Score\")\n",
    "plt.savefig('knn_train_test_accuracy.png')\n",
    "plt.show()"
   ]
  },
  {
   "cell_type": "markdown",
   "metadata": {},
   "source": [
    "## 5. Check the accuracy of the Model"
   ]
  },
  {
   "cell_type": "code",
   "execution_count": 8,
   "metadata": {},
   "outputs": [
    {
     "name": "stdout",
     "output_type": "stream",
     "text": [
      "k=5 Test Acc: 0.784\n"
     ]
    }
   ],
   "source": [
    "# Note that k: 5 seems to be the best choice for this dataset\n",
    "knn = KNeighborsClassifier(n_neighbors=5, weights='distance')\n",
    "knn.fit(X_train_scaled, y_train_one_hot)\n",
    "print('k=5 Test Acc: %.3f' % knn.score(X_test_scaled, y_test_one_hot))"
   ]
  },
  {
   "cell_type": "markdown",
   "metadata": {},
   "source": [
    "## 6. Tune the mode"
   ]
  },
  {
   "cell_type": "code",
   "execution_count": 9,
   "metadata": {},
   "outputs": [
    {
     "name": "stderr",
     "output_type": "stream",
     "text": [
      "//anaconda3/envs/PythonWebMongo/lib/python3.6/site-packages/sklearn/model_selection/_search.py:813: DeprecationWarning: The default of the `iid` parameter will change from True to False in version 0.22 and will be removed in 0.24. This will change numeric results when test-set sizes are unequal.\n",
      "  DeprecationWarning)\n"
     ]
    },
    {
     "data": {
      "image/png": "[encoded data removed]",
      "text/plain": [
       "<Figure size 432x288 with 1 Axes>"
      ]
     },
     "metadata": {
      "needs_background": "light"
     },
     "output_type": "display_data"
    }
   ],
   "source": [
    "#Tune the KNN model\n",
    "num_folds=10\n",
    "seed=42\n",
    "scoring =  'accuracy'\n",
    "neighbors = [1,3,5,7,9,11,13,15,17,19,21]\n",
    "param_grid = dict(n_neighbors=neighbors)\n",
    "model = KNeighborsClassifier()\n",
    "kfold = KFold(n_splits=num_folds, random_state=seed, shuffle=True)\n",
    "model = GridSearchCV(estimator=model, param_grid=param_grid, scoring=scoring, cv=kfold)\n",
    "grid_result = model.fit(X_train_scaled, y_train_one_hot)\n",
    "# print(f'Best score : {grid_result.best_score_} using {grid_result.best_params_}')\n",
    "means = grid_result.cv_results_['mean_test_score']\n",
    "stds = grid_result.cv_results_['std_test_score']\n",
    "params = grid_result.cv_results_['params']\n",
    "params\n",
    "\n",
    "knn_results = pd.DataFrame (list(zip(means, stds, neighbors)), columns=['means', 'stds', 'k'])\n",
    "\n",
    "# Plot the means and stds across the k values\n",
    "\n",
    "x_pos = np.arange(len(neighbors))\n",
    "fig, ax = plt.subplots()\n",
    "ax.bar(x_pos, knn_results['means'],\n",
    "       yerr=knn_results['stds'],\n",
    "       align='center',\n",
    "       alpha=0.5,\n",
    "       ecolor='black',\n",
    "       capsize=10)\n",
    "ax.set_ylabel('Mean score')\n",
    "ax.set_xlabel('k parameter')\n",
    "ax.set_xticks(x_pos)\n",
    "ax.set_xticklabels(neighbors)\n",
    "ax.set_title('Mean scores by k parameter values')\n",
    "ax.yaxis.grid(True)\n",
    "\n",
    "# Save the figure and show\n",
    "plt.tight_layout()\n",
    "plt.savefig('mean_scores.png')\n",
    "plt.show()"
   ]
  },
  {
   "cell_type": "markdown",
   "metadata": {},
   "source": [
    "## 7. Make Predictions"
   ]
  },
  {
   "cell_type": "code",
   "execution_count": 8,
   "metadata": {},
   "outputs": [],
   "source": [
    "# Make predictions using X_test_scaled\n",
    "encoded_predictions = model.predict(X_test_scaled)"
   ]
  },
  {
   "cell_type": "code",
   "execution_count": 9,
   "metadata": {},
   "outputs": [
    {
     "name": "stdout",
     "output_type": "stream",
     "text": [
      " index 0 predicted label: sick\n",
      " index 1 predicted label: sick\n",
      " index 2 predicted label: sick\n",
      " index 3 predicted label: buff\n",
      " index 4 predicted label: buff\n",
      "*** missmatch **** index: 4 Predited = buff  Actual = sick\n",
      " index 5 predicted label: buff\n",
      " index 6 predicted label: buff\n",
      " index 7 predicted label: buff\n",
      "*** missmatch **** index: 7 Predited = buff  Actual = sick\n",
      " index 8 predicted label: buff\n",
      " index 9 predicted label: sick\n",
      " index 10 predicted label: buff\n",
      " index 11 predicted label: buff\n",
      " index 12 predicted label: sick\n",
      " index 13 predicted label: buff\n",
      " index 14 predicted label: sick\n",
      " index 15 predicted label: buff\n",
      " index 16 predicted label: buff\n",
      " index 17 predicted label: sick\n",
      "*** missmatch **** index: 17 Predited = sick  Actual = buff\n",
      " index 18 predicted label: sick\n",
      " index 19 predicted label: buff\n",
      " index 20 predicted label: buff\n",
      " index 21 predicted label: sick\n",
      " index 22 predicted label: sick\n",
      " index 23 predicted label: buff\n",
      " index 24 predicted label: sick\n",
      " index 25 predicted label: sick\n",
      " index 26 predicted label: buff\n",
      "*** missmatch **** index: 26 Predited = buff  Actual = sick\n",
      " index 27 predicted label: buff\n",
      " index 28 predicted label: sick\n",
      " index 29 predicted label: buff\n",
      " index 30 predicted label: buff\n",
      " index 31 predicted label: sick\n",
      " index 32 predicted label: buff\n",
      " index 33 predicted label: buff\n",
      "*** missmatch **** index: 33 Predited = buff  Actual = sick\n",
      " index 34 predicted label: buff\n",
      " index 35 predicted label: buff\n",
      " index 36 predicted label: sick\n",
      "*** missmatch **** index: 36 Predited = sick  Actual = buff\n",
      " index 37 predicted label: buff\n",
      "*** missmatch **** index: 37 Predited = buff  Actual = sick\n",
      " index 38 predicted label: buff\n",
      "*** missmatch **** index: 38 Predited = buff  Actual = sick\n",
      " index 39 predicted label: sick\n",
      " index 40 predicted label: buff\n",
      " index 41 predicted label: buff\n",
      " index 42 predicted label: sick\n",
      " index 43 predicted label: sick\n",
      " index 44 predicted label: buff\n",
      " index 45 predicted label: sick\n",
      " index 46 predicted label: sick\n",
      "*** missmatch **** index: 46 Predited = sick  Actual = buff\n",
      " index 47 predicted label: buff\n",
      " index 48 predicted label: sick\n",
      " index 49 predicted label: buff\n",
      " index 50 predicted label: sick\n",
      " index 51 predicted label: sick\n",
      " index 52 predicted label: sick\n",
      " index 53 predicted label: sick\n",
      " index 54 predicted label: sick\n",
      " index 55 predicted label: buff\n",
      " index 56 predicted label: buff\n",
      " index 57 predicted label: buff\n",
      " index 58 predicted label: buff\n",
      " index 59 predicted label: buff\n",
      "*** missmatch **** index: 59 Predited = buff  Actual = sick\n",
      " index 60 predicted label: sick\n",
      " index 61 predicted label: buff\n",
      "*** missmatch **** index: 61 Predited = buff  Actual = sick\n",
      " index 62 predicted label: buff\n",
      " index 63 predicted label: buff\n",
      " index 64 predicted label: buff\n",
      " index 65 predicted label: buff\n",
      " index 66 predicted label: sick\n",
      " index 67 predicted label: sick\n",
      "*** missmatch **** index: 67 Predited = sick  Actual = buff\n",
      " index 68 predicted label: buff\n",
      " index 69 predicted label: buff\n",
      " index 70 predicted label: buff\n",
      " index 71 predicted label: sick\n",
      "*** missmatch **** index: 71 Predited = sick  Actual = buff\n",
      " index 72 predicted label: buff\n",
      " index 73 predicted label: sick\n"
     ]
    }
   ],
   "source": [
    "# Decode the data\n",
    "\n",
    "# Define a decode function\n",
    "def decode(datum):\n",
    "    return np.argmax(datum)\n",
    "\n",
    "labeled_predictions =[]\n",
    "for i in range(encoded_predictions.shape[0]):\n",
    "    datum = encoded_predictions[i]\n",
    "    #print(f'index: {i}')\n",
    "    #print(f'encoded datum: {datum}')\n",
    "    decoded_datum = decode(encoded_predictions[i])\n",
    "    if (decoded_datum ==0):\n",
    "        prediction='buff'\n",
    "    else: \n",
    "        prediction= 'sick'\n",
    "    # print(f'decoded datum: {decoded_datum}')\n",
    "    print(f' index {i} predicted label: {prediction}')\n",
    "    actual = y_test['buff'][i] \n",
    "    labeled_predictions.append(prediction)\n",
    "    \n",
    "    if (prediction != actual):\n",
    "        print (f'*** missmatch **** index: {i} Predited = {prediction}  Actual = {actual}')\n"
   ]
  },
  {
   "cell_type": "markdown",
   "metadata": {},
   "source": [
    "## 8. Save the model"
   ]
  },
  {
   "cell_type": "code",
   "execution_count": 56,
   "metadata": {},
   "outputs": [
    {
     "data": {
      "text/plain": [
       "['KNN.sav']"
      ]
     },
     "execution_count": 56,
     "metadata": {},
     "output_type": "execute_result"
    }
   ],
   "source": [
    "filename = 'KNN.sav'\n",
    "joblib.dump(model, filename)"
   ]
  },
  {
   "cell_type": "code",
   "execution_count": 57,
   "metadata": {},
   "outputs": [],
   "source": [
    "KNN = joblib.load('KNN.sav')"
   ]
  },
  {
   "cell_type": "code",
   "execution_count": null,
   "metadata": {},
   "outputs": [],
   "source": []
  }
 ],
 "metadata": {
  "kernelspec": {
   "display_name": "Python 3",
   "language": "python",
   "name": "python3"
  },
  "language_info": {
   "codemirror_mode": {
    "name": "ipython",
    "version": 3
   },
   "file_extension": ".py",
   "mimetype": "text/x-python",
   "name": "python",
   "nbconvert_exporter": "python",
   "pygments_lexer": "ipython3",
   "version": "3.6.9"
  }
 },
 "nbformat": 4,
 "nbformat_minor": 2
}
