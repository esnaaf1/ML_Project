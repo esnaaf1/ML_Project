{
 "cells": [
  {
   "cell_type": "markdown",
   "metadata": {},
   "source": [
    "# Model Comparisions"
   ]
  },
  {
   "cell_type": "code",
   "execution_count": 27,
   "metadata": {},
   "outputs": [],
   "source": [
    "import numpy as np\n",
    "import pandas as pd\n",
    "%matplotlib inline\n",
    "import matplotlib.pyplot as plt\n",
    "\n",
    "from sklearn.model_selection import train_test_split\n",
    "\n",
    "from tensorflow.keras.utils import to_categorical\n",
    "from sklearn.preprocessing import LabelEncoder, StandardScaler, MinMaxScaler, RobustScaler, minmax_scale, MaxAbsScaler, Normalizer, QuantileTransformer, PowerTransformer\n",
    "from sklearn.linear_model import LogisticRegression\n",
    "\n",
    "# Support vector machine linear classifier\n",
    "from sklearn.svm import SVC\n",
    "import joblib\n",
    "\n",
    "from tensorflow.keras.models import load_model\n",
    "from sklearn.preprocessing import LabelEncoder, MinMaxScaler\n",
    "from sklearn.linear_model import LogisticRegression\n",
    "from sklearn.metrics import classification_report\n",
    "\n",
    "import warnings\n",
    "warnings.simplefilter('ignore', FutureWarning)"
   ]
  },
  {
   "cell_type": "code",
   "execution_count": 28,
   "metadata": {},
   "outputs": [],
   "source": [
    "# Define a decode function\n",
    "def decode(datum):\n",
    "    return np.argmax(datum)\n",
    "\n",
    "def decodeResults(encoded_predictions):\n",
    "    labeled_predictions =[]\n",
    "    for i in range(encoded_predictions.shape[0]):\n",
    "        decoded_datum = decode(encoded_predictions[i])\n",
    "        labeled_predictions.append(decoded_datum)\n",
    "    return labeled_predictions\n",
    "\n",
    "def reshapeResults(predictions):\n",
    "    return predictions.reshape(-1,1)\n",
    "\n",
    "def convertToBinary(predictions):\n",
    "    binary = []\n",
    "    for prediction in predictions:\n",
    "        if (prediction == 'buff'):\n",
    "            binary.append(0)\n",
    "        else:\n",
    "            binary.append(1)\n",
    "    return binary"
   ]
  },
  {
   "cell_type": "code",
   "execution_count": 29,
   "metadata": {},
   "outputs": [],
   "source": [
    "def scatterPlot(index, population1, population2, label1, label2, title, ylabel):\n",
    "    # Scatter Plot of Data\n",
    "    plt.figure(figsize=(15,5))\n",
    "    plt.subplot(1,1,1)\n",
    "    plt.scatter(index, population1, marker='+', color='g', label=label1)\n",
    "    plt.scatter(index, population2, marker='x', color='r', label=label2)\n",
    "    plt.title(title,color='k', size=14, weight='bold')\n",
    "    plt.xlabel(\"index\")\n",
    "    plt.ylabel(ylabel)\n",
    "    plt.legend(loc=\"best\")\n",
    "    plt.grid(alpha=0.5)"
   ]
  },
  {
   "cell_type": "markdown",
   "metadata": {},
   "source": [
    "# Function to split and encode the data"
   ]
  },
  {
   "cell_type": "code",
   "execution_count": 30,
   "metadata": {},
   "outputs": [],
   "source": [
    "def splitData (X, y, iteration):\n",
    "    \n",
    "    X_train, X_test, y_train, y_test= train_test_split(X, y, random_state=iteration)\n",
    "    \n",
    "    # Apply the MinMax Scaler\n",
    "    X_scaler = MinMaxScaler().fit(X_train)\n",
    "    X_train_scaled = X_scaler.transform(X_train)\n",
    "    X_test_scaled = X_scaler.transform(X_test)\n",
    "    \n",
    "    # Label encode the dependent variable, then Hot encode it\n",
    "    label_encoder = LabelEncoder()\n",
    "    label_encoder.fit(y_train)\n",
    "    y_train_encoded = label_encoder.transform(y_train)\n",
    "    y_test_encoded = label_encoder.transform(y_test)\n",
    "    y_train_one_hot = to_categorical(y_train_encoded)\n",
    "    y_test_one_hot = to_categorical(y_test_encoded)\n",
    "\n",
    "    return X_train_scaled, X_test_scaled, X_test, y_train_one_hot, y_test_one_hot, y_test, y_test_encoded"
   ]
  },
  {
   "cell_type": "markdown",
   "metadata": {},
   "source": [
    "# Function to return score of each model"
   ]
  },
  {
   "cell_type": "code",
   "execution_count": 31,
   "metadata": {},
   "outputs": [],
   "source": [
    "def scoreModels(X_test_scaled, X_test, y_test_one_hot, y_test, y_test_encoded):\n",
    "\n",
    "    NN_loss, NN_score = NN.evaluate(X_test_scaled, y_test_one_hot)\n",
    "#     print(f' score {NN_score}')\n",
    "\n",
    "    LR_score = LR.score(X_test_scaled, y_test_encoded)\n",
    "#     print(f\" score {LR_score}\")\n",
    "\n",
    "    SVM_score = SVM.score(X_test_scaled, y_test_encoded)\n",
    "#     print(f\" score {SVM_score}\")\n",
    "\n",
    "    KNN_score = KNN.score(X_test_scaled, y_test_one_hot)\n",
    "#     print(f\" score {KNN_score}\")\n",
    "\n",
    "    RF_score = RF.score(X_test, y_test)\n",
    "#     print(f\" score {RF_score}\")\n",
    "    \n",
    "    return NN_score, LR_score, SVM_score, KNN_score, RF_score\n"
   ]
  },
  {
   "cell_type": "markdown",
   "metadata": {},
   "source": [
    "# Function to collected predictions from models"
   ]
  },
  {
   "cell_type": "code",
   "execution_count": 32,
   "metadata": {},
   "outputs": [],
   "source": [
    "def runPredictions(X_test_scaled):\n",
    "    \n",
    "    # Random Forests\n",
    "    RF_predict = RF.predict(X_test_scaled)\n",
    "    \n",
    "    # K Nearest Neighbor\n",
    "    KNN_predict = KNN.predict(X_test_scaled)\n",
    "    \n",
    "    # Support Vector Machines\n",
    "    SVM_predict = SVM.predict(X_test_scaled)\n",
    "    \n",
    "    # Logistic Regression\n",
    "    LR_predict = LR.predict(X_test_scaled)\n",
    "    \n",
    "#     not needed any longer???\n",
    "#         # Convert string result to 0, 1 to match other models\n",
    "#         LR_predict=[]\n",
    "#         for i in range(len(LR_pred)):\n",
    "#             if (LR_pred[i] == 'buff'):\n",
    "#                 LR_prd= 0\n",
    "#             else:\n",
    "#                 LR_prd=1\n",
    "#             LR_predict.append(LR_prd)\n",
    "    \n",
    "    # Neural Network\n",
    "    NN_predict = NN.predict(X_test_scaled)\n",
    "    \n",
    "    # First we need to ensure the data is in the correct format\n",
    "    # NOTE:  SVM_predict, LR_predict and y_test_encoded\n",
    "\n",
    "#     # y_test only requires label, no index \n",
    "#     y_test_label = y_test\n",
    "\n",
    "    # Need to convert from buff and sick to 1 and 0\n",
    "    RF_prediction = convertToBinary(RF_predict)\n",
    "\n",
    "    # Need to decode results\n",
    "    KNN_prediction = decodeResults(KNN_predict)\n",
    "    NN_prediction = decodeResults(NN_predict)\n",
    "    \n",
    "    return RF_prediction, KNN_prediction, NN_prediction, SVM_predict, LR_predict"
   ]
  },
  {
   "cell_type": "code",
   "execution_count": null,
   "metadata": {},
   "outputs": [],
   "source": []
  },
  {
   "cell_type": "markdown",
   "metadata": {},
   "source": [
    "## Load data"
   ]
  },
  {
   "cell_type": "code",
   "execution_count": 33,
   "metadata": {},
   "outputs": [
    {
     "data": {
      "text/html": [
       "<div>\n",
       "<style scoped>\n",
       "    .dataframe tbody tr th:only-of-type {\n",
       "        vertical-align: middle;\n",
       "    }\n",
       "\n",
       "    .dataframe tbody tr th {\n",
       "        vertical-align: top;\n",
       "    }\n",
       "\n",
       "    .dataframe thead th {\n",
       "        text-align: right;\n",
       "    }\n",
       "</style>\n",
       "<table border=\"1\" class=\"dataframe\">\n",
       "  <thead>\n",
       "    <tr style=\"text-align: right;\">\n",
       "      <th></th>\n",
       "      <th>age</th>\n",
       "      <th>sex</th>\n",
       "      <th>chestPain</th>\n",
       "      <th>trestBps</th>\n",
       "      <th>cholesterol</th>\n",
       "      <th>bloodSugar</th>\n",
       "      <th>ecg</th>\n",
       "      <th>maxHeartRate</th>\n",
       "      <th>exerciseInducedAngina</th>\n",
       "      <th>oldPeak</th>\n",
       "      <th>slope</th>\n",
       "      <th>vesselsColored</th>\n",
       "      <th>thal</th>\n",
       "      <th>buff</th>\n",
       "    </tr>\n",
       "  </thead>\n",
       "  <tbody>\n",
       "    <tr>\n",
       "      <td>0</td>\n",
       "      <td>63.0</td>\n",
       "      <td>male</td>\n",
       "      <td>angina</td>\n",
       "      <td>145.0</td>\n",
       "      <td>233.0</td>\n",
       "      <td>true</td>\n",
       "      <td>hyp</td>\n",
       "      <td>150.0</td>\n",
       "      <td>fal</td>\n",
       "      <td>2.3</td>\n",
       "      <td>down</td>\n",
       "      <td>0.0</td>\n",
       "      <td>fix</td>\n",
       "      <td>buff</td>\n",
       "    </tr>\n",
       "    <tr>\n",
       "      <td>1</td>\n",
       "      <td>67.0</td>\n",
       "      <td>male</td>\n",
       "      <td>asympt</td>\n",
       "      <td>160.0</td>\n",
       "      <td>286.0</td>\n",
       "      <td>fal</td>\n",
       "      <td>hyp</td>\n",
       "      <td>108.0</td>\n",
       "      <td>true</td>\n",
       "      <td>1.5</td>\n",
       "      <td>flat</td>\n",
       "      <td>3.0</td>\n",
       "      <td>norm</td>\n",
       "      <td>sick</td>\n",
       "    </tr>\n",
       "    <tr>\n",
       "      <td>2</td>\n",
       "      <td>67.0</td>\n",
       "      <td>male</td>\n",
       "      <td>asympt</td>\n",
       "      <td>120.0</td>\n",
       "      <td>229.0</td>\n",
       "      <td>fal</td>\n",
       "      <td>hyp</td>\n",
       "      <td>129.0</td>\n",
       "      <td>true</td>\n",
       "      <td>2.6</td>\n",
       "      <td>flat</td>\n",
       "      <td>2.0</td>\n",
       "      <td>rev</td>\n",
       "      <td>sick</td>\n",
       "    </tr>\n",
       "    <tr>\n",
       "      <td>3</td>\n",
       "      <td>37.0</td>\n",
       "      <td>male</td>\n",
       "      <td>notang</td>\n",
       "      <td>130.0</td>\n",
       "      <td>250.0</td>\n",
       "      <td>fal</td>\n",
       "      <td>norm</td>\n",
       "      <td>187.0</td>\n",
       "      <td>fal</td>\n",
       "      <td>3.5</td>\n",
       "      <td>down</td>\n",
       "      <td>0.0</td>\n",
       "      <td>norm</td>\n",
       "      <td>buff</td>\n",
       "    </tr>\n",
       "    <tr>\n",
       "      <td>4</td>\n",
       "      <td>41.0</td>\n",
       "      <td>fem</td>\n",
       "      <td>abnang</td>\n",
       "      <td>130.0</td>\n",
       "      <td>204.0</td>\n",
       "      <td>fal</td>\n",
       "      <td>hyp</td>\n",
       "      <td>172.0</td>\n",
       "      <td>fal</td>\n",
       "      <td>1.4</td>\n",
       "      <td>up</td>\n",
       "      <td>0.0</td>\n",
       "      <td>norm</td>\n",
       "      <td>buff</td>\n",
       "    </tr>\n",
       "  </tbody>\n",
       "</table>\n",
       "</div>"
      ],
      "text/plain": [
       "    age   sex chestPain  trestBps  cholesterol bloodSugar   ecg  maxHeartRate  \\\n",
       "0  63.0  male    angina     145.0        233.0       true   hyp         150.0   \n",
       "1  67.0  male    asympt     160.0        286.0        fal   hyp         108.0   \n",
       "2  67.0  male    asympt     120.0        229.0        fal   hyp         129.0   \n",
       "3  37.0  male    notang     130.0        250.0        fal  norm         187.0   \n",
       "4  41.0   fem    abnang     130.0        204.0        fal   hyp         172.0   \n",
       "\n",
       "  exerciseInducedAngina  oldPeak slope  vesselsColored  thal  buff  \n",
       "0                   fal      2.3  down             0.0   fix  buff  \n",
       "1                  true      1.5  flat             3.0  norm  sick  \n",
       "2                  true      2.6  flat             2.0   rev  sick  \n",
       "3                   fal      3.5  down             0.0  norm  buff  \n",
       "4                   fal      1.4    up             0.0  norm  buff  "
      ]
     },
     "execution_count": 33,
     "metadata": {},
     "output_type": "execute_result"
    }
   ],
   "source": [
    "df = pd.read_csv('../ETL/cleveland_clean.csv')\n",
    "df.head()"
   ]
  },
  {
   "cell_type": "code",
   "execution_count": 34,
   "metadata": {},
   "outputs": [],
   "source": [
    "#  reformat the data to replicate data used to create models\n",
    "    X = df.drop('buff', axis =1)\n",
    "    y = df['buff']\n",
    "    X['vesselsColored']=X['vesselsColored'].astype(str)\n",
    "    X=pd.get_dummies(X)"
   ]
  },
  {
   "cell_type": "markdown",
   "metadata": {},
   "source": [
    "# Load Models"
   ]
  },
  {
   "cell_type": "code",
   "execution_count": 35,
   "metadata": {},
   "outputs": [],
   "source": [
    "\n",
    "# Random Forests\n",
    "RF = joblib.load('tree.sav')\n",
    "\n",
    "# K Nearest Neighbors\n",
    "KNN = joblib.load('KNN.sav')\n",
    "\n",
    "# Support Vector Machines\n",
    "SVM = joblib.load('SVM.sav')\n",
    "\n",
    "# Logistic Regression\n",
    "LR = joblib.load('LR.sav')\n",
    "\n",
    "# Neural Network\n",
    "NN = load_model(\"NeuralNetwork.h5\")\n"
   ]
  },
  {
   "cell_type": "markdown",
   "metadata": {},
   "source": [
    "# Loop to iterate different splits of data"
   ]
  },
  {
   "cell_type": "code",
   "execution_count": 36,
   "metadata": {},
   "outputs": [
    {
     "name": "stdout",
     "output_type": "stream",
     "text": [
      "74/74 [==============================] - 0s 1ms/sample - loss: 0.3532 - acc: 0.8784\n",
      "74/74 [==============================] - 0s 43us/sample - loss: 0.2056 - acc: 0.9459\n",
      "74/74 [==============================] - 0s 44us/sample - loss: 0.3105 - acc: 0.8784\n",
      "74/74 [==============================] - 0s 41us/sample - loss: 0.3399 - acc: 0.8784\n",
      "74/74 [==============================] - 0s 43us/sample - loss: 0.2725 - acc: 0.9054\n"
     ]
    },
    {
     "data": {
      "text/html": [
       "<div>\n",
       "<style scoped>\n",
       "    .dataframe tbody tr th:only-of-type {\n",
       "        vertical-align: middle;\n",
       "    }\n",
       "\n",
       "    .dataframe tbody tr th {\n",
       "        vertical-align: top;\n",
       "    }\n",
       "\n",
       "    .dataframe thead th {\n",
       "        text-align: right;\n",
       "    }\n",
       "</style>\n",
       "<table border=\"1\" class=\"dataframe\">\n",
       "  <thead>\n",
       "    <tr style=\"text-align: right;\">\n",
       "      <th></th>\n",
       "      <th>Neural Network</th>\n",
       "      <th>Logistic Regression</th>\n",
       "      <th>SVM</th>\n",
       "      <th>KNN</th>\n",
       "      <th>Random Forest</th>\n",
       "    </tr>\n",
       "  </thead>\n",
       "  <tbody>\n",
       "    <tr>\n",
       "      <td>0</td>\n",
       "      <td>0.878378</td>\n",
       "      <td>0.851351</td>\n",
       "      <td>0.864865</td>\n",
       "      <td>0.851351</td>\n",
       "      <td>0.972973</td>\n",
       "    </tr>\n",
       "    <tr>\n",
       "      <td>1</td>\n",
       "      <td>0.945946</td>\n",
       "      <td>0.918919</td>\n",
       "      <td>0.918919</td>\n",
       "      <td>0.918919</td>\n",
       "      <td>0.959459</td>\n",
       "    </tr>\n",
       "    <tr>\n",
       "      <td>2</td>\n",
       "      <td>0.878378</td>\n",
       "      <td>0.824324</td>\n",
       "      <td>0.837838</td>\n",
       "      <td>0.824324</td>\n",
       "      <td>0.972973</td>\n",
       "    </tr>\n",
       "    <tr>\n",
       "      <td>3</td>\n",
       "      <td>0.878378</td>\n",
       "      <td>0.851351</td>\n",
       "      <td>0.864865</td>\n",
       "      <td>0.851351</td>\n",
       "      <td>0.959459</td>\n",
       "    </tr>\n",
       "    <tr>\n",
       "      <td>4</td>\n",
       "      <td>0.905405</td>\n",
       "      <td>0.864865</td>\n",
       "      <td>0.864865</td>\n",
       "      <td>0.891892</td>\n",
       "      <td>0.959459</td>\n",
       "    </tr>\n",
       "  </tbody>\n",
       "</table>\n",
       "</div>"
      ],
      "text/plain": [
       "   Neural Network  Logistic Regression       SVM       KNN  Random Forest\n",
       "0        0.878378             0.851351  0.864865  0.851351       0.972973\n",
       "1        0.945946             0.918919  0.918919  0.918919       0.959459\n",
       "2        0.878378             0.824324  0.837838  0.824324       0.972973\n",
       "3        0.878378             0.851351  0.864865  0.851351       0.959459\n",
       "4        0.905405             0.864865  0.864865  0.891892       0.959459"
      ]
     },
     "execution_count": 36,
     "metadata": {},
     "output_type": "execute_result"
    }
   ],
   "source": [
    "loops = 5\n",
    "scoresDF=pd.DataFrame(columns = ['Neural Network', 'Logistic Regression', 'SVM', 'KNN', 'Random Forest'])\n",
    "\n",
    "for i in range(1,loops+1,1):\n",
    "    #split the data\n",
    "    X_train_scaled, X_test_scaled, X_test, y_train_one_hot, y_test_one_hot, y_test, y_test_encoded=splitData(X,y,i)\n",
    "    \n",
    "    #collect score of each model\n",
    "    NN_score, LR_score, SVM_score, KNN_score, RF_score=scoreModels(X_test_scaled, X_test, y_test_one_hot, y_test, y_test_encoded)\n",
    "    \n",
    "    loopScores=pd.Series([NN_score, LR_score, SVM_score, KNN_score, RF_score], index=scoresDF.columns)\n",
    "\n",
    "    scoresDF=scoresDF.append(loopScores, ignore_index=True)\n",
    "    \n",
    "    \n",
    "    #collect predictions for each model\n",
    "#   RF_prediction, KNN_prediction, NN_prediction, SVM_predict, LR_predict=runPredictions(X_test_scaled)\n",
    "\n",
    "scoresDF.head()"
   ]
  },
  {
   "cell_type": "code",
   "execution_count": 37,
   "metadata": {},
   "outputs": [
    {
     "name": "stderr",
     "output_type": "stream",
     "text": [
      "//anaconda3/envs/PythonWebMongo/lib/python3.6/site-packages/ipykernel_launcher.py:7: MatplotlibDeprecationWarning: Adding an axes using the same arguments as a previous axes currently reuses the earlier instance.  In a future version, a new instance will always be created and returned.  Meanwhile, this warning can be suppressed, and the future behavior ensured, by passing a unique label to each axes instance.\n",
      "  import sys\n"
     ]
    },
    {
     "data": {
      "text/plain": [
       "<matplotlib.legend.Legend at 0x1a3b6d9a20>"
      ]
     },
     "execution_count": 37,
     "metadata": {},
     "output_type": "execute_result"
    },
    {
     "data": {
      "image/png": "[encoded data removed]",
      "text/plain": [
       "<Figure size 432x288 with 1 Axes>"
      ]
     },
     "metadata": {
      "needs_background": "light"
     },
     "output_type": "display_data"
    }
   ],
   "source": [
    "# plot the scores\n",
    "scoresDF.plot()\n",
    "x_tickMarks=[x for x in range(loops)]\n",
    "plt.ylabel('Model Accuracy Against Test Data')\n",
    "plt.xlabel('Split Data Iteration')\n",
    "plt.xticks(x_tickMarks)\n",
    "ax=plt.subplot(111)\n",
    "ax.legend(bbox_to_anchor=(1,1.03))"
   ]
  },
  {
   "cell_type": "markdown",
   "metadata": {},
   "source": [
    "# Zip all Predictions into a Single Data Frame"
   ]
  },
  {
   "cell_type": "code",
   "execution_count": 38,
   "metadata": {},
   "outputs": [
    {
     "ename": "NameError",
     "evalue": "name 'y_test_label' is not defined",
     "output_type": "error",
     "traceback": [
      "\u001b[0;31m---------------------------------------------------------------------------\u001b[0m",
      "\u001b[0;31mNameError\u001b[0m                                 Traceback (most recent call last)",
      "\u001b[0;32m<ipython-input-38-28dd98204072>\u001b[0m in \u001b[0;36m<module>\u001b[0;34m\u001b[0m\n\u001b[0;32m----> 1\u001b[0;31m results = pd.DataFrame(list(zip(y_test_label, y_test_encoded, SVM_predict, LR_predict, RF_prediction, KNN_prediction, NN_prediction)), \n\u001b[0m\u001b[1;32m      2\u001b[0m                        columns = ['Label','Actual','SVM','LR', 'RF', 'KNN', 'NN'])\n\u001b[1;32m      3\u001b[0m \u001b[0mresults\u001b[0m\u001b[0;34m\u001b[0m\u001b[0;34m\u001b[0m\u001b[0m\n",
      "\u001b[0;31mNameError\u001b[0m: name 'y_test_label' is not defined"
     ]
    }
   ],
   "source": [
    "results = pd.DataFrame(list(zip(y_test_label, y_test_encoded, SVM_predict, LR_predict, RF_prediction, KNN_prediction, NN_prediction)), \n",
    "                       columns = ['Label','Actual','SVM','LR', 'RF', 'KNN', 'NN'])\n",
    "results"
   ]
  },
  {
   "cell_type": "markdown",
   "metadata": {},
   "source": [
    "# Add a Column to Vote for the Final Prediction"
   ]
  },
  {
   "cell_type": "code",
   "execution_count": null,
   "metadata": {},
   "outputs": [],
   "source": [
    "results['Vote Sum'] = (results['RF'] + results['KNN'] + results['SVM'] + results['LR'] + results['NN'])\n",
    "results['Vote Majority'] = np.where(results['Vote Sum'] >= 3, 1, 0)\n",
    "results['Vote Conservative'] = np.where(results['Vote Sum'] > 0, 1, 0)\n",
    "results['SVM Result'] = results['Actual'] - results['SVM']\n",
    "results['LR Result'] = results['Actual'] - results['LR']\n",
    "results['RF Result'] = results['Actual'] - results['RF']\n",
    "results['KNN Result'] = results['Actual'] - results['KNN']\n",
    "results['NN Result'] = results['Actual'] - results['NN']\n",
    "results['Majority Result'] = results['Actual'] - results['Vote Majority']\n",
    "results['Conservative Result'] = results['Actual'] - results['Vote Conservative']\n",
    "results"
   ]
  },
  {
   "cell_type": "markdown",
   "metadata": {},
   "source": [
    "# Determine Whether a Consensus is Better than a Single Model"
   ]
  },
  {
   "cell_type": "code",
   "execution_count": null,
   "metadata": {},
   "outputs": [],
   "source": [
    "results.sum()"
   ]
  },
  {
   "cell_type": "code",
   "execution_count": null,
   "metadata": {},
   "outputs": [],
   "source": [
    "svm_final = results['SVM Result'].value_counts()\n",
    "lr_final = results['LR Result'].value_counts()\n",
    "rf_final = results['RF Result'].value_counts()\n",
    "knn_final = results['KNN Result'].value_counts()\n",
    "nn_final = results['NN Result'].value_counts()\n",
    "majority_final = results['Majority Result'].value_counts()\n",
    "conservative_final = results['Conservative Result'].value_counts()\n",
    "labels = ['Correct', 'False Positive (Incorrectly Found Sick)', 'False Negative (Incorrectly Found Healthy)']\n",
    "summary = pd.DataFrame(list(zip(labels, svm_final, lr_final, rf_final, knn_final, \n",
    "                                nn_final, majority_final, conservative_final)), \n",
    "                                columns = ['Result','SVM', 'LR', 'RF', 'KNN', 'NN', 'Majority Vote', 'Conservative Votes'])\n",
    "summary = summary.set_index('Result')\n",
    "\n",
    "summary.loc['Model Scores'] = [SVM_score, LR_score, RF_score, KNN_score, NN_score, 'N/A', 'N/A']\n",
    "summary"
   ]
  },
  {
   "cell_type": "code",
   "execution_count": null,
   "metadata": {},
   "outputs": [],
   "source": []
  },
  {
   "cell_type": "code",
   "execution_count": null,
   "metadata": {},
   "outputs": [],
   "source": []
  }
 ],
 "metadata": {
  "kernelspec": {
   "display_name": "Python 3",
   "language": "python",
   "name": "python3"
  },
  "language_info": {
   "codemirror_mode": {
    "name": "ipython",
    "version": 3
   },
   "file_extension": ".py",
   "mimetype": "text/x-python",
   "name": "python",
   "nbconvert_exporter": "python",
   "pygments_lexer": "ipython3",
   "version": "3.6.9"
  }
 },
 "nbformat": 4,
 "nbformat_minor": 2
}
