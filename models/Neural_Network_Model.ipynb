{
 "cells": [
  {
   "cell_type": "markdown",
   "metadata": {},
   "source": [
    "\n",
    "# Importing Dependecies"
   ]
  },
  {
   "cell_type": "code",
   "execution_count": 28,
   "metadata": {},
   "outputs": [],
   "source": [
    "\n",
    "# Set the seed value for the notebook so the results are reproducible\n",
    "from numpy.random import seed\n",
    "seed(42)\n",
    "\n",
    "import numpy as np\n",
    "import pandas as pd\n",
    "\n",
    "import warnings\n",
    "warnings.simplefilter('ignore', FutureWarning)\n",
    "\n",
    "%matplotlib inline\n",
    "import matplotlib.pyplot as plt\n",
    "\n",
    "from sklearn.model_selection import train_test_split\n",
    "from tensorflow.keras.utils import to_categorical\n",
    "from sklearn.preprocessing import MinMaxScaler, LabelEncoder\n",
    "from sklearn.model_selection import GridSearchCV"
   ]
  },
  {
   "cell_type": "markdown",
   "metadata": {},
   "source": [
    "# Load Train and Test Data set"
   ]
  },
  {
   "cell_type": "code",
   "execution_count": 29,
   "metadata": {},
   "outputs": [],
   "source": [
    "X_test=pd.read_csv(\"../data/X_test.csv\")\n",
    "# X_test.head()"
   ]
  },
  {
   "cell_type": "code",
   "execution_count": 30,
   "metadata": {},
   "outputs": [
    {
     "data": {
      "text/html": [
       "<div>\n",
       "<style scoped>\n",
       "    .dataframe tbody tr th:only-of-type {\n",
       "        vertical-align: middle;\n",
       "    }\n",
       "\n",
       "    .dataframe tbody tr th {\n",
       "        vertical-align: top;\n",
       "    }\n",
       "\n",
       "    .dataframe thead th {\n",
       "        text-align: right;\n",
       "    }\n",
       "</style>\n",
       "<table border=\"1\" class=\"dataframe\">\n",
       "  <thead>\n",
       "    <tr style=\"text-align: right;\">\n",
       "      <th></th>\n",
       "      <th>age</th>\n",
       "      <th>trestBps</th>\n",
       "      <th>cholesterol</th>\n",
       "      <th>maxHeartRate</th>\n",
       "      <th>oldPeak</th>\n",
       "      <th>sex_fem</th>\n",
       "      <th>sex_male</th>\n",
       "      <th>chestPain_abnang</th>\n",
       "      <th>chestPain_angina</th>\n",
       "      <th>chestPain_asympt</th>\n",
       "      <th>...</th>\n",
       "      <th>slope_down</th>\n",
       "      <th>slope_flat</th>\n",
       "      <th>slope_up</th>\n",
       "      <th>vesselsColored_0.0</th>\n",
       "      <th>vesselsColored_1.0</th>\n",
       "      <th>vesselsColored_2.0</th>\n",
       "      <th>vesselsColored_3.0</th>\n",
       "      <th>thal_fix</th>\n",
       "      <th>thal_norm</th>\n",
       "      <th>thal_rev</th>\n",
       "    </tr>\n",
       "  </thead>\n",
       "  <tbody>\n",
       "    <tr>\n",
       "      <td>0</td>\n",
       "      <td>52.0</td>\n",
       "      <td>118.0</td>\n",
       "      <td>186.0</td>\n",
       "      <td>190.0</td>\n",
       "      <td>0.0</td>\n",
       "      <td>0</td>\n",
       "      <td>1</td>\n",
       "      <td>0</td>\n",
       "      <td>1</td>\n",
       "      <td>0</td>\n",
       "      <td>...</td>\n",
       "      <td>0</td>\n",
       "      <td>1</td>\n",
       "      <td>0</td>\n",
       "      <td>1</td>\n",
       "      <td>0</td>\n",
       "      <td>0</td>\n",
       "      <td>0</td>\n",
       "      <td>1</td>\n",
       "      <td>0</td>\n",
       "      <td>0</td>\n",
       "    </tr>\n",
       "    <tr>\n",
       "      <td>1</td>\n",
       "      <td>41.0</td>\n",
       "      <td>112.0</td>\n",
       "      <td>268.0</td>\n",
       "      <td>172.0</td>\n",
       "      <td>0.0</td>\n",
       "      <td>1</td>\n",
       "      <td>0</td>\n",
       "      <td>0</td>\n",
       "      <td>0</td>\n",
       "      <td>0</td>\n",
       "      <td>...</td>\n",
       "      <td>0</td>\n",
       "      <td>0</td>\n",
       "      <td>1</td>\n",
       "      <td>1</td>\n",
       "      <td>0</td>\n",
       "      <td>0</td>\n",
       "      <td>0</td>\n",
       "      <td>0</td>\n",
       "      <td>1</td>\n",
       "      <td>0</td>\n",
       "    </tr>\n",
       "    <tr>\n",
       "      <td>2</td>\n",
       "      <td>55.0</td>\n",
       "      <td>130.0</td>\n",
       "      <td>262.0</td>\n",
       "      <td>155.0</td>\n",
       "      <td>0.0</td>\n",
       "      <td>0</td>\n",
       "      <td>1</td>\n",
       "      <td>1</td>\n",
       "      <td>0</td>\n",
       "      <td>0</td>\n",
       "      <td>...</td>\n",
       "      <td>0</td>\n",
       "      <td>0</td>\n",
       "      <td>1</td>\n",
       "      <td>1</td>\n",
       "      <td>0</td>\n",
       "      <td>0</td>\n",
       "      <td>0</td>\n",
       "      <td>0</td>\n",
       "      <td>1</td>\n",
       "      <td>0</td>\n",
       "    </tr>\n",
       "    <tr>\n",
       "      <td>3</td>\n",
       "      <td>42.0</td>\n",
       "      <td>148.0</td>\n",
       "      <td>244.0</td>\n",
       "      <td>178.0</td>\n",
       "      <td>0.8</td>\n",
       "      <td>0</td>\n",
       "      <td>1</td>\n",
       "      <td>0</td>\n",
       "      <td>1</td>\n",
       "      <td>0</td>\n",
       "      <td>...</td>\n",
       "      <td>0</td>\n",
       "      <td>0</td>\n",
       "      <td>1</td>\n",
       "      <td>0</td>\n",
       "      <td>0</td>\n",
       "      <td>1</td>\n",
       "      <td>0</td>\n",
       "      <td>0</td>\n",
       "      <td>1</td>\n",
       "      <td>0</td>\n",
       "    </tr>\n",
       "    <tr>\n",
       "      <td>4</td>\n",
       "      <td>64.0</td>\n",
       "      <td>170.0</td>\n",
       "      <td>227.0</td>\n",
       "      <td>155.0</td>\n",
       "      <td>0.6</td>\n",
       "      <td>0</td>\n",
       "      <td>1</td>\n",
       "      <td>0</td>\n",
       "      <td>1</td>\n",
       "      <td>0</td>\n",
       "      <td>...</td>\n",
       "      <td>0</td>\n",
       "      <td>1</td>\n",
       "      <td>0</td>\n",
       "      <td>1</td>\n",
       "      <td>0</td>\n",
       "      <td>0</td>\n",
       "      <td>0</td>\n",
       "      <td>0</td>\n",
       "      <td>0</td>\n",
       "      <td>1</td>\n",
       "    </tr>\n",
       "  </tbody>\n",
       "</table>\n",
       "<p>5 rows × 28 columns</p>\n",
       "</div>"
      ],
      "text/plain": [
       "    age  trestBps  cholesterol  maxHeartRate  oldPeak  sex_fem  sex_male  \\\n",
       "0  52.0     118.0        186.0         190.0      0.0        0         1   \n",
       "1  41.0     112.0        268.0         172.0      0.0        1         0   \n",
       "2  55.0     130.0        262.0         155.0      0.0        0         1   \n",
       "3  42.0     148.0        244.0         178.0      0.8        0         1   \n",
       "4  64.0     170.0        227.0         155.0      0.6        0         1   \n",
       "\n",
       "   chestPain_abnang  chestPain_angina  chestPain_asympt  ...  slope_down  \\\n",
       "0                 0                 1                 0  ...           0   \n",
       "1                 0                 0                 0  ...           0   \n",
       "2                 1                 0                 0  ...           0   \n",
       "3                 0                 1                 0  ...           0   \n",
       "4                 0                 1                 0  ...           0   \n",
       "\n",
       "   slope_flat  slope_up  vesselsColored_0.0  vesselsColored_1.0  \\\n",
       "0           1         0                   1                   0   \n",
       "1           0         1                   1                   0   \n",
       "2           0         1                   1                   0   \n",
       "3           0         1                   0                   0   \n",
       "4           1         0                   1                   0   \n",
       "\n",
       "   vesselsColored_2.0  vesselsColored_3.0  thal_fix  thal_norm  thal_rev  \n",
       "0                   0                   0         1          0         0  \n",
       "1                   0                   0         0          1         0  \n",
       "2                   0                   0         0          1         0  \n",
       "3                   1                   0         0          1         0  \n",
       "4                   0                   0         0          0         1  \n",
       "\n",
       "[5 rows x 28 columns]"
      ]
     },
     "execution_count": 30,
     "metadata": {},
     "output_type": "execute_result"
    }
   ],
   "source": [
    "X_train=pd.read_csv(\"../data/X_train.csv\")\n",
    "X_train.head()"
   ]
  },
  {
   "cell_type": "code",
   "execution_count": 31,
   "metadata": {},
   "outputs": [],
   "source": [
    "y_train=pd.read_csv(\"../data/y_train.csv\")\n",
    "# y_train.head()\n",
    "y_train_source = y_train"
   ]
  },
  {
   "cell_type": "code",
   "execution_count": 32,
   "metadata": {},
   "outputs": [],
   "source": [
    "y_test=pd.read_csv(\"../data/y_test.csv\")\n",
    "# y_test.head()\n",
    "y_test_source = y_test"
   ]
  },
  {
   "cell_type": "markdown",
   "metadata": {},
   "source": [
    "# One-Hot Encoding Labels"
   ]
  },
  {
   "cell_type": "code",
   "execution_count": 33,
   "metadata": {},
   "outputs": [
    {
     "name": "stderr",
     "output_type": "stream",
     "text": [
      "//anaconda3/envs/PythonWebMongo/lib/python3.6/site-packages/sklearn/preprocessing/label.py:219: DataConversionWarning: A column-vector y was passed when a 1d array was expected. Please change the shape of y to (n_samples, ), for example using ravel().\n",
      "  y = column_or_1d(y, warn=True)\n",
      "//anaconda3/envs/PythonWebMongo/lib/python3.6/site-packages/sklearn/preprocessing/label.py:252: DataConversionWarning: A column-vector y was passed when a 1d array was expected. Please change the shape of y to (n_samples, ), for example using ravel().\n",
      "  y = column_or_1d(y, warn=True)\n"
     ]
    }
   ],
   "source": [
    "label_encoder = LabelEncoder()\n",
    "label_encoder.fit(y_train)\n",
    "y_train_encoded = label_encoder.transform(y_train)\n",
    "# y_train"
   ]
  },
  {
   "cell_type": "code",
   "execution_count": 34,
   "metadata": {},
   "outputs": [],
   "source": [
    "label_encoder = LabelEncoder()\n",
    "label_encoder.fit(y_test)\n",
    "y_test_encoded = label_encoder.transform(y_test)\n",
    "# y_test"
   ]
  },
  {
   "cell_type": "code",
   "execution_count": 35,
   "metadata": {},
   "outputs": [],
   "source": [
    "y_train = to_categorical(y_train_encoded)\n",
    "# y_train"
   ]
  },
  {
   "cell_type": "code",
   "execution_count": 36,
   "metadata": {},
   "outputs": [],
   "source": [
    "y_test = to_categorical(y_test_encoded)\n",
    "# y_test"
   ]
  },
  {
   "cell_type": "markdown",
   "metadata": {},
   "source": [
    "# Preprocessing Data - Scaling Inputs"
   ]
  },
  {
   "cell_type": "code",
   "execution_count": 37,
   "metadata": {},
   "outputs": [
    {
     "data": {
      "text/plain": [
       "(222, 28)"
      ]
     },
     "execution_count": 37,
     "metadata": {},
     "output_type": "execute_result"
    }
   ],
   "source": [
    "# X_train.shape\n",
    "\n",
    "X_scaler = MinMaxScaler().fit(X_train)\n",
    "X_train_scaled = X_scaler.transform(X_train)\n",
    "X_test_scaled = X_scaler.transform(X_test)\n",
    "\n",
    "# Check shape of X_train_scaled\n",
    "X_train_scaled.shape"
   ]
  },
  {
   "cell_type": "markdown",
   "metadata": {},
   "source": [
    "# Neural Network Model Creation"
   ]
  },
  {
   "cell_type": "code",
   "execution_count": 38,
   "metadata": {},
   "outputs": [],
   "source": [
    "from tensorflow.keras.models import Sequential\n",
    "from tensorflow.keras.layers import Dense, Dropout\n",
    "\n",
    "model = Sequential()"
   ]
  },
  {
   "cell_type": "code",
   "execution_count": 39,
   "metadata": {},
   "outputs": [],
   "source": [
    "# Number of hot encoded inputs equals 28\n",
    "inputs = X_train_scaled.shape[1]\n",
    "hidden_layers=50;\n",
    "\n",
    "# First hidden layer\n",
    "model.add(Dense(units=hidden_layers,activation='relu', input_dim=inputs))"
   ]
  },
  {
   "cell_type": "code",
   "execution_count": 40,
   "metadata": {},
   "outputs": [],
   "source": [
    "# Create output layer / labels\n",
    "number_classes = 2\n",
    "model.add(Dense(units=number_classes, activation='softmax'))"
   ]
  },
  {
   "cell_type": "markdown",
   "metadata": {},
   "source": [
    "# Model Summary"
   ]
  },
  {
   "cell_type": "code",
   "execution_count": 41,
   "metadata": {},
   "outputs": [
    {
     "name": "stdout",
     "output_type": "stream",
     "text": [
      "Model: \"sequential_1\"\n",
      "_________________________________________________________________\n",
      "Layer (type)                 Output Shape              Param #   \n",
      "=================================================================\n",
      "dense_2 (Dense)              (None, 50)                1450      \n",
      "_________________________________________________________________\n",
      "dense_3 (Dense)              (None, 2)                 102       \n",
      "=================================================================\n",
      "Total params: 1,552\n",
      "Trainable params: 1,552\n",
      "Non-trainable params: 0\n",
      "_________________________________________________________________\n"
     ]
    }
   ],
   "source": [
    "model.summary()"
   ]
  },
  {
   "cell_type": "markdown",
   "metadata": {},
   "source": [
    "# Compile Model"
   ]
  },
  {
   "cell_type": "code",
   "execution_count": 42,
   "metadata": {},
   "outputs": [],
   "source": [
    "# using categorical crossentropy to compile the model\n",
    "model.compile(optimizer='adam',\n",
    "              loss='categorical_crossentropy', \n",
    "              metrics=['accuracy'])"
   ]
  },
  {
   "cell_type": "markdown",
   "metadata": {},
   "source": [
    "# Train Model"
   ]
  },
  {
   "cell_type": "code",
   "execution_count": 43,
   "metadata": {},
   "outputs": [
    {
     "name": "stdout",
     "output_type": "stream",
     "text": [
      "Train on 222 samples, validate on 74 samples\n",
      "Epoch 1/50\n",
      "222/222 - 0s - loss: 0.6749 - acc: 0.5946 - val_loss: 0.6206 - val_acc: 0.6892\n",
      "Epoch 2/50\n",
      "222/222 - 0s - loss: 0.6118 - acc: 0.7117 - val_loss: 0.5751 - val_acc: 0.7838\n",
      "Epoch 3/50\n",
      "222/222 - 0s - loss: 0.5604 - acc: 0.7658 - val_loss: 0.5374 - val_acc: 0.8108\n",
      "Epoch 4/50\n",
      "222/222 - 0s - loss: 0.5159 - acc: 0.7973 - val_loss: 0.5048 - val_acc: 0.8108\n",
      "Epoch 5/50\n",
      "222/222 - 0s - loss: 0.4780 - acc: 0.8108 - val_loss: 0.4759 - val_acc: 0.8514\n",
      "Epoch 6/50\n",
      "222/222 - 0s - loss: 0.4467 - acc: 0.8378 - val_loss: 0.4515 - val_acc: 0.8649\n",
      "Epoch 7/50\n",
      "222/222 - 0s - loss: 0.4193 - acc: 0.8514 - val_loss: 0.4315 - val_acc: 0.8649\n",
      "Epoch 8/50\n",
      "222/222 - 0s - loss: 0.3971 - acc: 0.8514 - val_loss: 0.4151 - val_acc: 0.8649\n",
      "Epoch 9/50\n",
      "222/222 - 0s - loss: 0.3769 - acc: 0.8694 - val_loss: 0.4033 - val_acc: 0.8514\n",
      "Epoch 10/50\n",
      "222/222 - 0s - loss: 0.3619 - acc: 0.8649 - val_loss: 0.3933 - val_acc: 0.8514\n",
      "Epoch 11/50\n",
      "222/222 - 0s - loss: 0.3490 - acc: 0.8649 - val_loss: 0.3861 - val_acc: 0.8514\n",
      "Epoch 12/50\n",
      "222/222 - 0s - loss: 0.3383 - acc: 0.8739 - val_loss: 0.3816 - val_acc: 0.8378\n",
      "Epoch 13/50\n",
      "222/222 - 0s - loss: 0.3296 - acc: 0.8784 - val_loss: 0.3779 - val_acc: 0.8378\n",
      "Epoch 14/50\n",
      "222/222 - 0s - loss: 0.3218 - acc: 0.8784 - val_loss: 0.3762 - val_acc: 0.8243\n",
      "Epoch 15/50\n",
      "222/222 - 0s - loss: 0.3149 - acc: 0.8874 - val_loss: 0.3746 - val_acc: 0.8243\n",
      "Epoch 16/50\n",
      "222/222 - 0s - loss: 0.3095 - acc: 0.8829 - val_loss: 0.3742 - val_acc: 0.8243\n",
      "Epoch 17/50\n",
      "222/222 - 0s - loss: 0.3040 - acc: 0.8874 - val_loss: 0.3741 - val_acc: 0.8243\n",
      "Epoch 18/50\n",
      "222/222 - 0s - loss: 0.3000 - acc: 0.8829 - val_loss: 0.3734 - val_acc: 0.8243\n",
      "Epoch 19/50\n",
      "222/222 - 0s - loss: 0.2958 - acc: 0.8829 - val_loss: 0.3735 - val_acc: 0.8243\n",
      "Epoch 20/50\n",
      "222/222 - 0s - loss: 0.2921 - acc: 0.8919 - val_loss: 0.3735 - val_acc: 0.8243\n",
      "Epoch 21/50\n",
      "222/222 - 0s - loss: 0.2886 - acc: 0.8964 - val_loss: 0.3741 - val_acc: 0.8243\n",
      "Epoch 22/50\n",
      "222/222 - 0s - loss: 0.2855 - acc: 0.8964 - val_loss: 0.3754 - val_acc: 0.8243\n",
      "Epoch 23/50\n",
      "222/222 - 0s - loss: 0.2829 - acc: 0.8964 - val_loss: 0.3757 - val_acc: 0.8243\n",
      "Epoch 24/50\n",
      "222/222 - 0s - loss: 0.2796 - acc: 0.8964 - val_loss: 0.3763 - val_acc: 0.8243\n",
      "Epoch 25/50\n",
      "222/222 - 0s - loss: 0.2779 - acc: 0.9054 - val_loss: 0.3777 - val_acc: 0.8243\n",
      "Epoch 26/50\n",
      "222/222 - 0s - loss: 0.2744 - acc: 0.8964 - val_loss: 0.3785 - val_acc: 0.8243\n",
      "Epoch 27/50\n",
      "222/222 - 0s - loss: 0.2714 - acc: 0.8964 - val_loss: 0.3793 - val_acc: 0.8243\n",
      "Epoch 28/50\n",
      "222/222 - 0s - loss: 0.2710 - acc: 0.9009 - val_loss: 0.3808 - val_acc: 0.8243\n",
      "Epoch 29/50\n",
      "222/222 - 0s - loss: 0.2668 - acc: 0.9009 - val_loss: 0.3820 - val_acc: 0.8243\n",
      "Epoch 30/50\n",
      "222/222 - 0s - loss: 0.2646 - acc: 0.8964 - val_loss: 0.3830 - val_acc: 0.8243\n",
      "Epoch 31/50\n",
      "222/222 - 0s - loss: 0.2630 - acc: 0.9009 - val_loss: 0.3842 - val_acc: 0.8243\n",
      "Epoch 32/50\n",
      "222/222 - 0s - loss: 0.2616 - acc: 0.9009 - val_loss: 0.3858 - val_acc: 0.8243\n",
      "Epoch 33/50\n",
      "222/222 - 0s - loss: 0.2582 - acc: 0.9054 - val_loss: 0.3867 - val_acc: 0.8243\n",
      "Epoch 34/50\n",
      "222/222 - 0s - loss: 0.2564 - acc: 0.9054 - val_loss: 0.3876 - val_acc: 0.8243\n",
      "Epoch 35/50\n",
      "222/222 - 0s - loss: 0.2542 - acc: 0.9054 - val_loss: 0.3882 - val_acc: 0.8243\n",
      "Epoch 36/50\n",
      "222/222 - 0s - loss: 0.2523 - acc: 0.9054 - val_loss: 0.3889 - val_acc: 0.8243\n",
      "Epoch 37/50\n",
      "222/222 - 0s - loss: 0.2497 - acc: 0.9054 - val_loss: 0.3900 - val_acc: 0.8243\n",
      "Epoch 38/50\n",
      "222/222 - 0s - loss: 0.2476 - acc: 0.9054 - val_loss: 0.3921 - val_acc: 0.8243\n",
      "Epoch 39/50\n",
      "222/222 - 0s - loss: 0.2456 - acc: 0.9144 - val_loss: 0.3928 - val_acc: 0.8243\n",
      "Epoch 40/50\n",
      "222/222 - 0s - loss: 0.2438 - acc: 0.9144 - val_loss: 0.3940 - val_acc: 0.8378\n",
      "Epoch 41/50\n",
      "222/222 - 0s - loss: 0.2422 - acc: 0.9189 - val_loss: 0.3950 - val_acc: 0.8378\n",
      "Epoch 42/50\n",
      "222/222 - 0s - loss: 0.2403 - acc: 0.9234 - val_loss: 0.3966 - val_acc: 0.8378\n",
      "Epoch 43/50\n",
      "222/222 - 0s - loss: 0.2394 - acc: 0.9144 - val_loss: 0.3980 - val_acc: 0.8243\n",
      "Epoch 44/50\n",
      "222/222 - 0s - loss: 0.2362 - acc: 0.9144 - val_loss: 0.3998 - val_acc: 0.8243\n",
      "Epoch 45/50\n",
      "222/222 - 0s - loss: 0.2344 - acc: 0.9144 - val_loss: 0.4005 - val_acc: 0.8378\n",
      "Epoch 46/50\n",
      "222/222 - 0s - loss: 0.2330 - acc: 0.9189 - val_loss: 0.4013 - val_acc: 0.8378\n",
      "Epoch 47/50\n",
      "222/222 - 0s - loss: 0.2317 - acc: 0.9189 - val_loss: 0.4030 - val_acc: 0.8378\n",
      "Epoch 48/50\n",
      "222/222 - 0s - loss: 0.2289 - acc: 0.9189 - val_loss: 0.4047 - val_acc: 0.8378\n",
      "Epoch 49/50\n",
      "222/222 - 0s - loss: 0.2273 - acc: 0.9234 - val_loss: 0.4059 - val_acc: 0.8378\n",
      "Epoch 50/50\n",
      "222/222 - 0s - loss: 0.2254 - acc: 0.9279 - val_loss: 0.4066 - val_acc: 0.8378\n"
     ]
    }
   ],
   "source": [
    "epoch=50\n",
    "\n",
    "history = model.fit(\n",
    "    X_train_scaled,\n",
    "    y_train,\n",
    "    epochs=epoch,\n",
    "    verbose=2,\n",
    "    validation_data=(X_test_scaled, y_test)\n",
    "    )"
   ]
  },
  {
   "cell_type": "markdown",
   "metadata": {},
   "source": [
    "# Quantify the Model"
   ]
  },
  {
   "cell_type": "code",
   "execution_count": 44,
   "metadata": {},
   "outputs": [
    {
     "name": "stdout",
     "output_type": "stream",
     "text": [
      "74/74 - 0s - loss: 0.4066 - acc: 0.8378\n",
      "Loss: 0.40663609633574616, Accuracy: 0.837837815284729\n"
     ]
    }
   ],
   "source": [
    "model_loss, model_accuracy = model.evaluate(X_test_scaled, y_test, verbose=2)\n",
    "\n",
    "print(f\"Loss: {model_loss}, Accuracy: {model_accuracy}\")"
   ]
  },
  {
   "cell_type": "code",
   "execution_count": 45,
   "metadata": {},
   "outputs": [
    {
     "name": "stdout",
     "output_type": "stream",
     "text": [
      "dict_keys(['loss', 'acc', 'val_loss', 'val_acc'])\n"
     ]
    }
   ],
   "source": [
    "print(history.history.keys())\n"
   ]
  },
  {
   "cell_type": "code",
   "execution_count": 46,
   "metadata": {
    "scrolled": true
   },
   "outputs": [
    {
     "data": {
      "image/png": "[encoded data removed]",
      "text/plain": [
       "<Figure size 432x288 with 1 Axes>"
      ]
     },
     "metadata": {
      "needs_background": "light"
     },
     "output_type": "display_data"
    }
   ],
   "source": [
    "#creating a plot to display accurancy over each epoch\n",
    "plt.plot(history.history['acc'])\n",
    "plt.plot(history.history['val_acc'])\n",
    "plt.title('Model Accuracy')\n",
    "plt.ylabel('Accuracy')\n",
    "plt.xlabel('Epoch')\n",
    "plt.legend(['Train Data', 'Test Data'], loc='lower right')\n",
    "plt.show()"
   ]
  },
  {
   "cell_type": "code",
   "execution_count": 47,
   "metadata": {
    "scrolled": true
   },
   "outputs": [
    {
     "data": {
      "image/png": "[encoded data removed]",
      "text/plain": [
       "<Figure size 432x288 with 1 Axes>"
      ]
     },
     "metadata": {
      "needs_background": "light"
     },
     "output_type": "display_data"
    }
   ],
   "source": [
    "#creating a loss graph\n",
    "plt.plot(history.history['loss'])\n",
    "plt.plot(history.history['val_loss'])\n",
    "plt.title('Model Loss')\n",
    "plt.ylabel('Loss')\n",
    "plt.xlabel('Epoch')\n",
    "plt.legend(['Train Data', 'Test Data'], loc='upper right')\n",
    "plt.show()"
   ]
  },
  {
   "cell_type": "code",
   "execution_count": 48,
   "metadata": {},
   "outputs": [],
   "source": [
    "# Make predictions using X_test_scaled\n",
    "encoded_predictions = model.predict(X_test_scaled)\n"
   ]
  },
  {
   "cell_type": "markdown",
   "metadata": {},
   "source": []
  },
  {
   "cell_type": "code",
   "execution_count": 50,
   "metadata": {},
   "outputs": [
    {
     "name": "stdout",
     "output_type": "stream",
     "text": [
      " index 0 predicted label: sick\n",
      " index 1 predicted label: sick\n",
      " index 2 predicted label: sick\n",
      " index 3 predicted label: buff\n",
      " index 4 predicted label: buff\n",
      "*** index: 4 Predited buff  Actual sick\n",
      " index 5 predicted label: buff\n",
      " index 6 predicted label: buff\n",
      " index 7 predicted label: sick\n",
      " index 8 predicted label: buff\n",
      " index 9 predicted label: sick\n",
      " index 10 predicted label: buff\n",
      " index 11 predicted label: buff\n",
      " index 12 predicted label: sick\n",
      " index 13 predicted label: buff\n",
      " index 14 predicted label: sick\n",
      " index 15 predicted label: buff\n",
      " index 16 predicted label: buff\n",
      " index 17 predicted label: sick\n",
      "*** index: 17 Predited sick  Actual buff\n",
      " index 18 predicted label: sick\n",
      " index 19 predicted label: buff\n",
      " index 20 predicted label: buff\n",
      " index 21 predicted label: sick\n",
      " index 22 predicted label: sick\n",
      " index 23 predicted label: buff\n",
      " index 24 predicted label: sick\n",
      " index 25 predicted label: sick\n",
      " index 26 predicted label: buff\n",
      "*** index: 26 Predited buff  Actual sick\n",
      " index 27 predicted label: buff\n",
      " index 28 predicted label: sick\n",
      " index 29 predicted label: buff\n",
      " index 30 predicted label: buff\n",
      " index 31 predicted label: sick\n",
      " index 32 predicted label: buff\n",
      " index 33 predicted label: sick\n",
      " index 34 predicted label: buff\n",
      " index 35 predicted label: buff\n",
      " index 36 predicted label: sick\n",
      "*** index: 36 Predited sick  Actual buff\n",
      " index 37 predicted label: buff\n",
      "*** index: 37 Predited buff  Actual sick\n",
      " index 38 predicted label: buff\n",
      "*** index: 38 Predited buff  Actual sick\n",
      " index 39 predicted label: sick\n",
      " index 40 predicted label: buff\n",
      " index 41 predicted label: buff\n",
      " index 42 predicted label: sick\n",
      " index 43 predicted label: sick\n",
      " index 44 predicted label: buff\n",
      " index 45 predicted label: sick\n",
      " index 46 predicted label: sick\n",
      "*** index: 46 Predited sick  Actual buff\n",
      " index 47 predicted label: buff\n",
      " index 48 predicted label: sick\n",
      " index 49 predicted label: buff\n",
      " index 50 predicted label: sick\n",
      " index 51 predicted label: sick\n",
      " index 52 predicted label: buff\n",
      "*** index: 52 Predited buff  Actual sick\n",
      " index 53 predicted label: sick\n",
      " index 54 predicted label: sick\n",
      " index 55 predicted label: buff\n",
      " index 56 predicted label: buff\n",
      " index 57 predicted label: buff\n",
      " index 58 predicted label: buff\n",
      " index 59 predicted label: buff\n",
      "*** index: 59 Predited buff  Actual sick\n",
      " index 60 predicted label: sick\n",
      " index 61 predicted label: buff\n",
      "*** index: 61 Predited buff  Actual sick\n",
      " index 62 predicted label: buff\n",
      " index 63 predicted label: buff\n",
      " index 64 predicted label: buff\n",
      " index 65 predicted label: sick\n",
      "*** index: 65 Predited sick  Actual buff\n",
      " index 66 predicted label: sick\n",
      " index 67 predicted label: sick\n",
      "*** index: 67 Predited sick  Actual buff\n",
      " index 68 predicted label: buff\n",
      " index 69 predicted label: buff\n",
      " index 70 predicted label: buff\n",
      " index 71 predicted label: buff\n",
      " index 72 predicted label: buff\n",
      " index 73 predicted label: sick\n"
     ]
    }
   ],
   "source": [
    "# Decode the data\n",
    "\n",
    "# Define a decode function\n",
    "def decode(datum):\n",
    "    return np.argmax(datum)\n",
    "\n",
    "labeled_predictions =[]\n",
    "for i in range(encoded_predictions.shape[0]):\n",
    "    datum = encoded_predictions[i]\n",
    "    #print(f'index: {i}')\n",
    "    #print(f'encoded datum: {datum}')\n",
    "    decoded_datum = decode(encoded_predictions[i])\n",
    "    if (decoded_datum ==0):\n",
    "        prediction='buff'\n",
    "    else: \n",
    "        prediction= 'sick'\n",
    "    # print(f'decoded datum: {decoded_datum}')\n",
    "    print(f' index {i} predicted label: {prediction}')\n",
    "    actual = y_test_source['buff'][i] \n",
    "    labeled_predictions.append(prediction)\n",
    "    \n",
    "    if (prediction != actual):\n",
    "        print (f'*** index: {i} Predited {prediction}  Actual {actual}')"
   ]
  },
  {
   "cell_type": "code",
   "execution_count": 54,
   "metadata": {},
   "outputs": [],
   "source": [
    "# Save the model\n",
    "model.save(\"NeuralNetwork.h5\")"
   ]
  },
  {
   "cell_type": "code",
   "execution_count": 55,
   "metadata": {},
   "outputs": [],
   "source": [
    "# Load the model\n",
    "from tensorflow.keras.models import load_model\n",
    "NeuralNetwork = load_model(\"NeuralNetwork.h5\")"
   ]
  },
  {
   "cell_type": "code",
   "execution_count": 57,
   "metadata": {},
   "outputs": [
    {
     "name": "stdout",
     "output_type": "stream",
     "text": [
      "74/74 - 0s - loss: 0.4066 - acc: 0.8378\n",
      "Loss: 0.40663609633574616, Accuracy: 0.837837815284729\n"
     ]
    }
   ],
   "source": [
    "model_loss, model_accuracy = NeuralNetwork.evaluate(X_test_scaled, y_test, verbose=2)\n",
    "\n",
    "print(f\"Loss: {model_loss}, Accuracy: {model_accuracy}\")"
   ]
  },
  {
   "cell_type": "code",
   "execution_count": null,
   "metadata": {},
   "outputs": [],
   "source": []
  }
 ],
 "metadata": {
  "kernelspec": {
   "display_name": "Python 3",
   "language": "python",
   "name": "python3"
  },
  "language_info": {
   "codemirror_mode": {
    "name": "ipython",
    "version": 3
   },
   "file_extension": ".py",
   "mimetype": "text/x-python",
   "name": "python",
   "nbconvert_exporter": "python",
   "pygments_lexer": "ipython3",
   "version": "3.6.9"
  }
 },
 "nbformat": 4,
 "nbformat_minor": 2
}
