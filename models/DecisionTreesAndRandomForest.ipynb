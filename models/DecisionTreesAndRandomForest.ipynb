{
 "cells": [
  {
   "cell_type": "markdown",
   "metadata": {},
   "source": [
    "## Import Neccesary Libraries"
   ]
  },
  {
   "cell_type": "code",
   "execution_count": 1,
   "metadata": {},
   "outputs": [],
   "source": [
    "from sklearn import tree\n",
    "import pandas as pd\n",
    "import os\n",
    "from sklearn.ensemble import RandomForestClassifier\n",
    "import warnings\n",
    "warnings.simplefilter('ignore', FutureWarning)\n",
    "import joblib"
   ]
  },
  {
   "cell_type": "markdown",
   "metadata": {},
   "source": [
    "## Reading in Data for Train and Test"
   ]
  },
  {
   "cell_type": "code",
   "execution_count": 2,
   "metadata": {},
   "outputs": [],
   "source": [
    "# df = pd.read_csv(os.path.join(\"..\", \"ETL\", \"cleveland_clean.csv\"))\n",
    "# df.head()\n",
    "X_train = pd.read_csv(os.path.join(\"..\", \"data\", \"X_train.csv\"))\n",
    "X_test = pd.read_csv(os.path.join(\"..\", \"data\", \"X_test.csv\"))\n",
    "y_train = pd.read_csv(os.path.join(\"..\", \"data\", \"y_train.csv\"))\n",
    "y_test = pd.read_csv(os.path.join(\"..\", \"data\", \"y_test.csv\"))\n",
    "feature_names = X_test.columns"
   ]
  },
  {
   "cell_type": "markdown",
   "metadata": {},
   "source": [
    "## Decision Tree Score"
   ]
  },
  {
   "cell_type": "code",
   "execution_count": 3,
   "metadata": {},
   "outputs": [
    {
     "data": {
      "text/plain": [
       "0.7162162162162162"
      ]
     },
     "execution_count": 3,
     "metadata": {},
     "output_type": "execute_result"
    }
   ],
   "source": [
    "clf = tree.DecisionTreeClassifier()\n",
    "clf = clf.fit(X_train, y_train)\n",
    "clf.score(X_test, y_test)"
   ]
  },
  {
   "cell_type": "markdown",
   "metadata": {},
   "source": [
    "## Random Forest Score"
   ]
  },
  {
   "cell_type": "code",
   "execution_count": 4,
   "metadata": {},
   "outputs": [
    {
     "name": "stderr",
     "output_type": "stream",
     "text": [
      "//anaconda3/envs/PythonWebMongo/lib/python3.6/site-packages/ipykernel_launcher.py:2: DataConversionWarning: A column-vector y was passed when a 1d array was expected. Please change the shape of y to (n_samples,), for example using ravel().\n",
      "  \n"
     ]
    },
    {
     "data": {
      "text/plain": [
       "0.7972972972972973"
      ]
     },
     "execution_count": 4,
     "metadata": {},
     "output_type": "execute_result"
    }
   ],
   "source": [
    "rf = RandomForestClassifier(n_estimators=100)\n",
    "rf = rf.fit(X_train, y_train)\n",
    "rf.score(X_test, y_test)"
   ]
  },
  {
   "cell_type": "code",
   "execution_count": 5,
   "metadata": {},
   "outputs": [
    {
     "data": {
      "text/plain": [
       "(74,)"
      ]
     },
     "execution_count": 5,
     "metadata": {},
     "output_type": "execute_result"
    }
   ],
   "source": [
    "predicted_y = rf.predict(X_test)\n",
    "predicted_y.shape"
   ]
  },
  {
   "cell_type": "code",
   "execution_count": 6,
   "metadata": {},
   "outputs": [
    {
     "name": "stdout",
     "output_type": "stream",
     "text": [
      "4 Actual: sick Predicted: buff\n",
      "7 Actual: sick Predicted: buff\n",
      "17 Actual: buff Predicted: sick\n",
      "22 Actual: sick Predicted: buff\n",
      "26 Actual: sick Predicted: buff\n",
      "31 Actual: sick Predicted: buff\n",
      "36 Actual: buff Predicted: sick\n",
      "37 Actual: sick Predicted: buff\n",
      "38 Actual: sick Predicted: buff\n",
      "46 Actual: buff Predicted: sick\n",
      "59 Actual: sick Predicted: buff\n",
      "61 Actual: sick Predicted: buff\n",
      "65 Actual: buff Predicted: sick\n",
      "67 Actual: buff Predicted: sick\n",
      "71 Actual: buff Predicted: sick\n"
     ]
    }
   ],
   "source": [
    "for i in range (len(predicted_y)):\n",
    "    actual = y_test['buff'][i]\n",
    "    if actual != predicted_y [i]:\n",
    "        print(f'{i} Actual: {actual} Predicted: {predicted_y[i]}')"
   ]
  },
  {
   "cell_type": "code",
   "execution_count": 7,
   "metadata": {},
   "outputs": [
    {
     "data": {
      "text/plain": [
       "['tree.sav']"
      ]
     },
     "execution_count": 7,
     "metadata": {},
     "output_type": "execute_result"
    }
   ],
   "source": [
    "filename = 'tree.sav'\n",
    "joblib.dump (rf,filename)"
   ]
  },
  {
   "cell_type": "code",
   "execution_count": 8,
   "metadata": {},
   "outputs": [
    {
     "data": {
      "text/plain": [
       "[(0.09064627604120756, 'oldPeak'),\n",
       " (0.08511635843382023, 'chestPain_asympt'),\n",
       " (0.08162838648702979, 'maxHeartRate'),\n",
       " (0.07917110478459674, 'vesselsColored_0.0'),\n",
       " (0.07487147496326405, 'thal_norm'),\n",
       " (0.06914917586352406, 'age'),\n",
       " (0.0638400287875068, 'thal_rev'),\n",
       " (0.06326824463464574, 'cholesterol'),\n",
       " (0.06244020739363721, 'trestBps'),\n",
       " (0.053208521272535315, 'exerciseInducedAngina_fal'),\n",
       " (0.047780841282084346, 'exerciseInducedAngina_true'),\n",
       " (0.03332563391229106, 'slope_up'),\n",
       " (0.026057102219867886, 'slope_flat'),\n",
       " (0.020581565331677404, 'chestPain_notang'),\n",
       " (0.020444090984290057, 'vesselsColored_1.0'),\n",
       " (0.018588988449682323, 'sex_male'),\n",
       " (0.017316917844231023, 'ecg_hyp'),\n",
       " (0.016716884986711464, 'sex_fem'),\n",
       " (0.012987967030170406, 'chestPain_angina'),\n",
       " (0.011619074951397312, 'ecg_norm'),\n",
       " (0.009496122677337083, 'vesselsColored_2.0'),\n",
       " (0.00831999753712813, 'bloodSugar_true'),\n",
       " (0.007562255806020961, 'chestPain_abnang'),\n",
       " (0.007136502378779759, 'thal_fix'),\n",
       " (0.0061971853736139185, 'vesselsColored_3.0'),\n",
       " (0.0057475411682298295, 'slope_down'),\n",
       " (0.005597763800280902, 'bloodSugar_fal'),\n",
       " (0.0011837856044386418, 'ecg_abn')]"
      ]
     },
     "execution_count": 8,
     "metadata": {},
     "output_type": "execute_result"
    }
   ],
   "source": [
    "sorted(zip(rf.feature_importances_, feature_names), reverse=True)"
   ]
  },
  {
   "cell_type": "code",
   "execution_count": null,
   "metadata": {},
   "outputs": [],
   "source": []
  }
 ],
 "metadata": {
  "kernelspec": {
   "display_name": "Python 3",
   "language": "python",
   "name": "python3"
  },
  "language_info": {
   "codemirror_mode": {
    "name": "ipython",
    "version": 3
   },
   "file_extension": ".py",
   "mimetype": "text/x-python",
   "name": "python",
   "nbconvert_exporter": "python",
   "pygments_lexer": "ipython3",
   "version": "3.6.9"
  }
 },
 "nbformat": 4,
 "nbformat_minor": 2
}
